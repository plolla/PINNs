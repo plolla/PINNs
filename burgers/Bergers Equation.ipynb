{
 "cells": [
  {
   "cell_type": "markdown",
   "metadata": {},
   "source": [
    "# Solving the Burgers Equation"
   ]
  },
  {
   "cell_type": "code",
   "execution_count": 1,
   "metadata": {
    "scrolled": false
   },
   "outputs": [
    {
     "name": "stdout",
     "output_type": "stream",
     "text": [
      "---------------------- SCIANN 0.6.0.4 ---------------------- \n",
      "For details, check out our review paper and the documentation at: \n",
      " +  \"https://arxiv.org/abs/2005.08803\", \n",
      " +  \"https://www.sciann.com\". \n",
      "\n"
     ]
    }
   ],
   "source": [
    "import pandas as pd\n",
    "import numpy as np\n",
    "import sciann as sn\n",
    "import tensorflow as tf\n",
    "from sciann.utils.math import diff, tanh, sin"
   ]
  },
  {
   "cell_type": "markdown",
   "metadata": {},
   "source": [
    "## Defining the Inputs and Building the NN"
   ]
  },
  {
   "cell_type": "code",
   "execution_count": 2,
   "metadata": {},
   "outputs": [],
   "source": [
    "# Variable defines the inputs\n",
    "t = sn.Variable(\"t\")\n",
    "x = sn.Variable(\"x\")\n",
    "\n",
    "# Functional creates the deep neural net\n",
    "# This will create a deep neural network with 8 layers with 20 neurons in each layer with a tanh activation\n",
    "\n",
    "u = sn.Functional(\"u\", [t, x], 8*[20], \"tanh\")"
   ]
  },
  {
   "cell_type": "markdown",
   "metadata": {},
   "source": [
    "## Setting up the Optimization Problem (using tanh for boundary conditions)"
   ]
  },
  {
   "cell_type": "code",
   "execution_count": 3,
   "metadata": {},
   "outputs": [],
   "source": [
    "# L1 is the PDE\n",
    "L1 = diff(u, t) + u*diff(u, x) - (0.01/np.pi)*diff(u, x, order=2)\n",
    "\n",
    "# Boundary Conditions\n",
    "# Tmin = t + tol\n",
    "tol = 0.001 \n",
    "L2 = (1 - tanh(t - tol)) * (u + sin(np.pi*x))\n",
    "L3 = (1 - tanh(x - (-1+tol))) * u\n",
    "L4 = (1 + tanh(x - (1-tol))) * u"
   ]
  },
  {
   "cell_type": "markdown",
   "metadata": {},
   "source": [
    "## Building the PINN"
   ]
  },
  {
   "cell_type": "code",
   "execution_count": 4,
   "metadata": {},
   "outputs": [],
   "source": [
    "m = sn.SciModel(\n",
    "    [t, x], \n",
    "    [L1, L2, L3, L4], \n",
    "    \"mse\", \"Adam\")"
   ]
  },
  {
   "cell_type": "markdown",
   "metadata": {},
   "source": [
    "## Define Sampling Grid"
   ]
  },
  {
   "cell_type": "code",
   "execution_count": 5,
   "metadata": {},
   "outputs": [],
   "source": [
    "x_data, t_data = np.meshgrid(\n",
    "    np.linspace(-1, 1, 200),\n",
    "    np.linspace(0, 1, 200))"
   ]
  },
  {
   "cell_type": "markdown",
   "metadata": {},
   "source": [
    "## Training"
   ]
  },
  {
   "cell_type": "code",
   "execution_count": 6,
   "metadata": {},
   "outputs": [
    {
     "data": {
      "text/plain": [
       "<tensorflow.python.keras.callbacks.History at 0x7fc220698f10>"
      ]
     },
     "execution_count": 6,
     "metadata": {},
     "output_type": "execute_result"
    }
   ],
   "source": [
    "callback = tf.keras.callbacks.EarlyStopping(patience=3)\n",
    "\n",
    "m.train(\n",
    "    [x_data, t_data],\n",
    "    4*['zero'],\n",
    "    learning_rate = 0.003,\n",
    "    epochs = 9000,\n",
    "    batch_size = 500,\n",
    "    callbacks = [callback],\n",
    "    verbose = 0)"
   ]
  },
  {
   "cell_type": "markdown",
   "metadata": {},
   "source": [
    "## Testing"
   ]
  },
  {
   "cell_type": "code",
   "execution_count": 10,
   "metadata": {},
   "outputs": [],
   "source": [
    "x_test, t_test = np.meshgrid(\n",
    "    np.linspace(-1, 1, 100),\n",
    "    np. linspace(0, 1, 100))\n",
    "\n",
    "u_pred = u.eval(m, [x_test, t_test])"
   ]
  },
  {
   "cell_type": "markdown",
   "metadata": {},
   "source": [
    "## Graphing Results"
   ]
  },
  {
   "cell_type": "code",
   "execution_count": 11,
   "metadata": {},
   "outputs": [
    {
     "data": {
      "text/plain": [
       "<matplotlib.colorbar.Colorbar at 0x7fc205cda210>"
      ]
     },
     "execution_count": 11,
     "metadata": {},
     "output_type": "execute_result"
    },
    {
     "data": {
      "image/png": "[encoded data removed]",
      "text/plain": [
       "<Figure size 216x288 with 2 Axes>"
      ]
     },
     "metadata": {
      "needs_background": "light"
     },
     "output_type": "display_data"
    }
   ],
   "source": [
    "import matplotlib.pyplot as plt\n",
    "fig = plt.figure(figsize = (3,4))\n",
    "plt.pcolor(x_test, t_test, u_pred, cmap='seismic')\n",
    "plt.xlabel('x')\n",
    "plt.ylabel('t')\n",
    "plt.colorbar()"
   ]
  },
  {
   "cell_type": "markdown",
   "metadata": {},
   "source": [
    "## Setting up Optimization Problem for new model (using sign instead of tanh)"
   ]
  },
  {
   "cell_type": "code",
   "execution_count": 15,
   "metadata": {},
   "outputs": [],
   "source": [
    "from sciann.utils.math import sign\n",
    "\n",
    "L5 = (1 - sign(t - tol)) * (u + sin(np.pi*x))\n",
    "L6 = (1 - sign(x - (-1+tol))) * u\n",
    "L7 = (1 + sign(x - (1-tol))) * u"
   ]
  },
  {
   "cell_type": "code",
   "execution_count": 16,
   "metadata": {},
   "outputs": [],
   "source": [
    "m2 = sn.SciModel(\n",
    "    [t, x], \n",
    "    [L1, L5, L6, L7], \n",
    "    \"mse\", \"Adam\")"
   ]
  },
  {
   "cell_type": "code",
   "execution_count": 17,
   "metadata": {},
   "outputs": [
    {
     "data": {
      "text/plain": [
       "<tensorflow.python.keras.callbacks.History at 0x7fc203b5b710>"
      ]
     },
     "execution_count": 17,
     "metadata": {},
     "output_type": "execute_result"
    }
   ],
   "source": [
    "callback = tf.keras.callbacks.EarlyStopping(patience=3)\n",
    "\n",
    "m2.train(\n",
    "    [x_data, t_data],\n",
    "    4*['zero'],\n",
    "    learning_rate = 0.003,\n",
    "    epochs = 9000,\n",
    "    batch_size = 500,\n",
    "    callbacks = [callback],\n",
    "    verbose = 0)"
   ]
  },
  {
   "cell_type": "code",
   "execution_count": 29,
   "metadata": {
    "scrolled": true
   },
   "outputs": [],
   "source": [
    "x_test2, t_test2 = np.meshgrid(\n",
    "    np.linspace(-1, 1, 100),\n",
    "    np. linspace(0, 1, 100))\n",
    "\n",
    "u_pred2 = u.eval(m2, [x_test2, t_test2])"
   ]
  },
  {
   "cell_type": "code",
   "execution_count": 30,
   "metadata": {},
   "outputs": [
    {
     "data": {
      "text/plain": [
       "<matplotlib.colorbar.Colorbar at 0x7fc20a944350>"
      ]
     },
     "execution_count": 30,
     "metadata": {},
     "output_type": "execute_result"
    },
    {
     "data": {
      "image/png": "[encoded data removed]",
      "text/plain": [
       "<Figure size 216x288 with 2 Axes>"
      ]
     },
     "metadata": {
      "needs_background": "light"
     },
     "output_type": "display_data"
    }
   ],
   "source": [
    "import matplotlib.pyplot as plt\n",
    "fig = plt.figure(figsize = (3,4))\n",
    "plt.pcolor(x_test2, t_test2, u_pred2, cmap='seismic')\n",
    "plt.xlabel('x')\n",
    "plt.ylabel('t')\n",
    "plt.colorbar()"
   ]
  },
  {
   "cell_type": "code",
   "execution_count": null,
   "metadata": {},
   "outputs": [],
   "source": []
  }
 ],
 "metadata": {
  "kernelspec": {
   "display_name": "Python [conda env:py3-TF2.0]",
   "language": "python",
   "name": "conda-env-py3-TF2.0-py"
  },
  "language_info": {
   "codemirror_mode": {
    "name": "ipython",
    "version": 3
   },
   "file_extension": ".py",
   "mimetype": "text/x-python",
   "name": "python",
   "nbconvert_exporter": "python",
   "pygments_lexer": "ipython3",
   "version": "3.7.7"
  }
 },
 "nbformat": 4,
 "nbformat_minor": 4
}
