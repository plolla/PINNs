{
 "cells": [
  {
   "cell_type": "markdown",
   "metadata": {},
   "source": [
    "# PINN #1"
   ]
  },
  {
   "cell_type": "markdown",
   "metadata": {},
   "source": [
    "## Import Relevant Packages"
   ]
  },
  {
   "cell_type": "code",
   "execution_count": 1,
   "metadata": {},
   "outputs": [
    {
     "name": "stdout",
     "output_type": "stream",
     "text": [
      "---------------------- SCIANN 0.6.3.1 ---------------------- \n",
      "For details, check out our review paper and the documentation at: \n",
      " +  \"https://www.sciencedirect.com/science/article/pii/S0045782520307374\", \n",
      " +  \"https://arxiv.org/abs/2005.08803\", \n",
      " +  \"https://www.sciann.com\". \n",
      "\n",
      " Need support or would like to contribute, please join sciann`s slack group: \n",
      " +  \"https://join.slack.com/t/sciann/shared_invite/zt-ne1f5jlx-k_dY8RGo3ZreDXwz0f~CeA\" \n",
      " \n"
     ]
    }
   ],
   "source": [
    "import pandas as pd\n",
    "import sciann as sn\n",
    "import numpy as np\n",
    "from sklearn.preprocessing import MinMaxScaler"
   ]
  },
  {
   "cell_type": "markdown",
   "metadata": {},
   "source": [
    "## Load Data from Data Folder"
   ]
  },
  {
   "cell_type": "code",
   "execution_count": 2,
   "metadata": {},
   "outputs": [
    {
     "data": {
      "text/html": [
       "<div>\n",
       "<style scoped>\n",
       "    .dataframe tbody tr th:only-of-type {\n",
       "        vertical-align: middle;\n",
       "    }\n",
       "\n",
       "    .dataframe tbody tr th {\n",
       "        vertical-align: top;\n",
       "    }\n",
       "\n",
       "    .dataframe thead th {\n",
       "        text-align: right;\n",
       "    }\n",
       "</style>\n",
       "<table border=\"1\" class=\"dataframe\">\n",
       "  <thead>\n",
       "    <tr style=\"text-align: right;\">\n",
       "      <th></th>\n",
       "      <th>Qf</th>\n",
       "      <th>Time</th>\n",
       "      <th>X</th>\n",
       "      <th>Y</th>\n",
       "      <th>Alpha</th>\n",
       "      <th>Temp(degC)</th>\n",
       "    </tr>\n",
       "  </thead>\n",
       "  <tbody>\n",
       "    <tr>\n",
       "      <th>0</th>\n",
       "      <td>500</td>\n",
       "      <td>0.0</td>\n",
       "      <td>0.5</td>\n",
       "      <td>0.0</td>\n",
       "      <td>2.672616e-07</td>\n",
       "      <td>20.009595</td>\n",
       "    </tr>\n",
       "    <tr>\n",
       "      <th>1</th>\n",
       "      <td>500</td>\n",
       "      <td>0.0</td>\n",
       "      <td>1.0</td>\n",
       "      <td>0.0</td>\n",
       "      <td>2.672529e-07</td>\n",
       "      <td>20.009028</td>\n",
       "    </tr>\n",
       "    <tr>\n",
       "      <th>2</th>\n",
       "      <td>500</td>\n",
       "      <td>0.0</td>\n",
       "      <td>1.5</td>\n",
       "      <td>0.0</td>\n",
       "      <td>2.672558e-07</td>\n",
       "      <td>20.009221</td>\n",
       "    </tr>\n",
       "    <tr>\n",
       "      <th>3</th>\n",
       "      <td>500</td>\n",
       "      <td>0.0</td>\n",
       "      <td>2.0</td>\n",
       "      <td>0.0</td>\n",
       "      <td>2.672529e-07</td>\n",
       "      <td>20.009035</td>\n",
       "    </tr>\n",
       "    <tr>\n",
       "      <th>4</th>\n",
       "      <td>500</td>\n",
       "      <td>0.0</td>\n",
       "      <td>2.5</td>\n",
       "      <td>0.0</td>\n",
       "      <td>2.672530e-07</td>\n",
       "      <td>20.009039</td>\n",
       "    </tr>\n",
       "    <tr>\n",
       "      <th>...</th>\n",
       "      <td>...</td>\n",
       "      <td>...</td>\n",
       "      <td>...</td>\n",
       "      <td>...</td>\n",
       "      <td>...</td>\n",
       "      <td>...</td>\n",
       "    </tr>\n",
       "    <tr>\n",
       "      <th>3095</th>\n",
       "      <td>700</td>\n",
       "      <td>15.0</td>\n",
       "      <td>48.0</td>\n",
       "      <td>2.0</td>\n",
       "      <td>9.814811e-01</td>\n",
       "      <td>183.682189</td>\n",
       "    </tr>\n",
       "    <tr>\n",
       "      <th>3096</th>\n",
       "      <td>700</td>\n",
       "      <td>15.0</td>\n",
       "      <td>48.5</td>\n",
       "      <td>2.0</td>\n",
       "      <td>9.814803e-01</td>\n",
       "      <td>183.607359</td>\n",
       "    </tr>\n",
       "    <tr>\n",
       "      <th>3097</th>\n",
       "      <td>700</td>\n",
       "      <td>15.0</td>\n",
       "      <td>49.0</td>\n",
       "      <td>2.0</td>\n",
       "      <td>9.814794e-01</td>\n",
       "      <td>183.530586</td>\n",
       "    </tr>\n",
       "    <tr>\n",
       "      <th>3098</th>\n",
       "      <td>700</td>\n",
       "      <td>15.0</td>\n",
       "      <td>49.5</td>\n",
       "      <td>2.0</td>\n",
       "      <td>9.814784e-01</td>\n",
       "      <td>183.451856</td>\n",
       "    </tr>\n",
       "    <tr>\n",
       "      <th>3099</th>\n",
       "      <td>700</td>\n",
       "      <td>15.0</td>\n",
       "      <td>50.0</td>\n",
       "      <td>2.0</td>\n",
       "      <td>9.814772e-01</td>\n",
       "      <td>183.371156</td>\n",
       "    </tr>\n",
       "  </tbody>\n",
       "</table>\n",
       "<p>170500 rows × 6 columns</p>\n",
       "</div>"
      ],
      "text/plain": [
       "       Qf  Time     X    Y         Alpha  Temp(degC)\n",
       "0     500   0.0   0.5  0.0  2.672616e-07   20.009595\n",
       "1     500   0.0   1.0  0.0  2.672529e-07   20.009028\n",
       "2     500   0.0   1.5  0.0  2.672558e-07   20.009221\n",
       "3     500   0.0   2.0  0.0  2.672529e-07   20.009035\n",
       "4     500   0.0   2.5  0.0  2.672530e-07   20.009039\n",
       "...   ...   ...   ...  ...           ...         ...\n",
       "3095  700  15.0  48.0  2.0  9.814811e-01  183.682189\n",
       "3096  700  15.0  48.5  2.0  9.814803e-01  183.607359\n",
       "3097  700  15.0  49.0  2.0  9.814794e-01  183.530586\n",
       "3098  700  15.0  49.5  2.0  9.814784e-01  183.451856\n",
       "3099  700  15.0  50.0  2.0  9.814772e-01  183.371156\n",
       "\n",
       "[170500 rows x 6 columns]"
      ]
     },
     "execution_count": 2,
     "metadata": {},
     "output_type": "execute_result"
    }
   ],
   "source": [
    "import glob\n",
    "\n",
    "df = pd.concat(map(pd.read_csv, glob.glob('data/*.csv')))\n",
    "df"
   ]
  },
  {
   "cell_type": "code",
   "execution_count": 3,
   "metadata": {},
   "outputs": [
    {
     "data": {
      "text/html": [
       "<div>\n",
       "<style scoped>\n",
       "    .dataframe tbody tr th:only-of-type {\n",
       "        vertical-align: middle;\n",
       "    }\n",
       "\n",
       "    .dataframe tbody tr th {\n",
       "        vertical-align: top;\n",
       "    }\n",
       "\n",
       "    .dataframe thead th {\n",
       "        text-align: right;\n",
       "    }\n",
       "</style>\n",
       "<table border=\"1\" class=\"dataframe\">\n",
       "  <thead>\n",
       "    <tr style=\"text-align: right;\">\n",
       "      <th></th>\n",
       "      <th>Qf</th>\n",
       "      <th>Time</th>\n",
       "      <th>X</th>\n",
       "      <th>Y</th>\n",
       "      <th>Alpha</th>\n",
       "      <th>Temp(degC)</th>\n",
       "    </tr>\n",
       "  </thead>\n",
       "  <tbody>\n",
       "    <tr>\n",
       "      <th>0</th>\n",
       "      <td>640</td>\n",
       "      <td>4.5</td>\n",
       "      <td>50.0</td>\n",
       "      <td>0.46</td>\n",
       "      <td>3.432606e-01</td>\n",
       "      <td>74.288036</td>\n",
       "    </tr>\n",
       "    <tr>\n",
       "      <th>1</th>\n",
       "      <td>640</td>\n",
       "      <td>12.0</td>\n",
       "      <td>21.0</td>\n",
       "      <td>2.00</td>\n",
       "      <td>9.599310e-01</td>\n",
       "      <td>147.390076</td>\n",
       "    </tr>\n",
       "    <tr>\n",
       "      <th>2</th>\n",
       "      <td>580</td>\n",
       "      <td>9.0</td>\n",
       "      <td>38.5</td>\n",
       "      <td>2.00</td>\n",
       "      <td>8.025030e-01</td>\n",
       "      <td>110.925316</td>\n",
       "    </tr>\n",
       "    <tr>\n",
       "      <th>3</th>\n",
       "      <td>680</td>\n",
       "      <td>9.5</td>\n",
       "      <td>38.5</td>\n",
       "      <td>2.00</td>\n",
       "      <td>9.061430e-01</td>\n",
       "      <td>131.582045</td>\n",
       "    </tr>\n",
       "    <tr>\n",
       "      <th>4</th>\n",
       "      <td>700</td>\n",
       "      <td>9.0</td>\n",
       "      <td>0.0</td>\n",
       "      <td>1.56</td>\n",
       "      <td>8.901466e-01</td>\n",
       "      <td>128.915540</td>\n",
       "    </tr>\n",
       "    <tr>\n",
       "      <th>...</th>\n",
       "      <td>...</td>\n",
       "      <td>...</td>\n",
       "      <td>...</td>\n",
       "      <td>...</td>\n",
       "      <td>...</td>\n",
       "      <td>...</td>\n",
       "    </tr>\n",
       "    <tr>\n",
       "      <th>170495</th>\n",
       "      <td>700</td>\n",
       "      <td>14.5</td>\n",
       "      <td>49.0</td>\n",
       "      <td>1.00</td>\n",
       "      <td>9.796638e-01</td>\n",
       "      <td>179.695998</td>\n",
       "    </tr>\n",
       "    <tr>\n",
       "      <th>170496</th>\n",
       "      <td>640</td>\n",
       "      <td>0.0</td>\n",
       "      <td>2.0</td>\n",
       "      <td>1.00</td>\n",
       "      <td>2.671200e-07</td>\n",
       "      <td>20.000003</td>\n",
       "    </tr>\n",
       "    <tr>\n",
       "      <th>170497</th>\n",
       "      <td>620</td>\n",
       "      <td>13.0</td>\n",
       "      <td>16.0</td>\n",
       "      <td>0.00</td>\n",
       "      <td>9.673567e-01</td>\n",
       "      <td>151.694021</td>\n",
       "    </tr>\n",
       "    <tr>\n",
       "      <th>170498</th>\n",
       "      <td>600</td>\n",
       "      <td>5.5</td>\n",
       "      <td>38.5</td>\n",
       "      <td>2.00</td>\n",
       "      <td>4.423386e-01</td>\n",
       "      <td>81.125778</td>\n",
       "    </tr>\n",
       "    <tr>\n",
       "      <th>170499</th>\n",
       "      <td>520</td>\n",
       "      <td>6.5</td>\n",
       "      <td>30.0</td>\n",
       "      <td>0.00</td>\n",
       "      <td>4.886471e-01</td>\n",
       "      <td>81.984579</td>\n",
       "    </tr>\n",
       "  </tbody>\n",
       "</table>\n",
       "<p>170500 rows × 6 columns</p>\n",
       "</div>"
      ],
      "text/plain": [
       "         Qf  Time     X     Y         Alpha  Temp(degC)\n",
       "0       640   4.5  50.0  0.46  3.432606e-01   74.288036\n",
       "1       640  12.0  21.0  2.00  9.599310e-01  147.390076\n",
       "2       580   9.0  38.5  2.00  8.025030e-01  110.925316\n",
       "3       680   9.5  38.5  2.00  9.061430e-01  131.582045\n",
       "4       700   9.0   0.0  1.56  8.901466e-01  128.915540\n",
       "...     ...   ...   ...   ...           ...         ...\n",
       "170495  700  14.5  49.0  1.00  9.796638e-01  179.695998\n",
       "170496  640   0.0   2.0  1.00  2.671200e-07   20.000003\n",
       "170497  620  13.0  16.0  0.00  9.673567e-01  151.694021\n",
       "170498  600   5.5  38.5  2.00  4.423386e-01   81.125778\n",
       "170499  520   6.5  30.0  0.00  4.886471e-01   81.984579\n",
       "\n",
       "[170500 rows x 6 columns]"
      ]
     },
     "execution_count": 3,
     "metadata": {},
     "output_type": "execute_result"
    }
   ],
   "source": [
    "# Shuffle the data so it's easy for the model to learn\n",
    "df = df.sample(frac=1).reset_index(drop=True)\n",
    "df"
   ]
  },
  {
   "cell_type": "code",
   "execution_count": 4,
   "metadata": {
    "scrolled": true
   },
   "outputs": [
    {
     "data": {
      "text/html": [
       "<div>\n",
       "<style scoped>\n",
       "    .dataframe tbody tr th:only-of-type {\n",
       "        vertical-align: middle;\n",
       "    }\n",
       "\n",
       "    .dataframe tbody tr th {\n",
       "        vertical-align: top;\n",
       "    }\n",
       "\n",
       "    .dataframe thead th {\n",
       "        text-align: right;\n",
       "    }\n",
       "</style>\n",
       "<table border=\"1\" class=\"dataframe\">\n",
       "  <thead>\n",
       "    <tr style=\"text-align: right;\">\n",
       "      <th></th>\n",
       "      <th>Qf</th>\n",
       "      <th>Time</th>\n",
       "      <th>X</th>\n",
       "      <th>Y</th>\n",
       "      <th>Alpha</th>\n",
       "      <th>Temp(degC)</th>\n",
       "    </tr>\n",
       "  </thead>\n",
       "  <tbody>\n",
       "  </tbody>\n",
       "</table>\n",
       "</div>"
      ],
      "text/plain": [
       "Empty DataFrame\n",
       "Columns: [Qf, Time, X, Y, Alpha, Temp(degC)]\n",
       "Index: []"
      ]
     },
     "execution_count": 4,
     "metadata": {},
     "output_type": "execute_result"
    }
   ],
   "source": [
    "pd.set_option(\"display.max_rows\", None, \"display.max_columns\", None)\n",
    "df[df.isna().any(axis=1)]"
   ]
  },
  {
   "cell_type": "markdown",
   "metadata": {},
   "source": [
    "## Get only data points where Q = 500"
   ]
  },
  {
   "cell_type": "code",
   "execution_count": 5,
   "metadata": {},
   "outputs": [],
   "source": [
    "# Get only data points where Qf = 500\n",
    "df = df.loc[df['Qf'] == 500]"
   ]
  },
  {
   "cell_type": "markdown",
   "metadata": {},
   "source": [
    "## Seperate Data into Train and Test"
   ]
  },
  {
   "cell_type": "code",
   "execution_count": 6,
   "metadata": {},
   "outputs": [],
   "source": [
    "from sklearn.model_selection import train_test_split\n",
    "\n",
    "train_df, test_df = train_test_split(df, test_size=0.2)"
   ]
  },
  {
   "cell_type": "code",
   "execution_count": 18,
   "metadata": {},
   "outputs": [
    {
     "data": {
      "text/html": [
       "<div>\n",
       "<style scoped>\n",
       "    .dataframe tbody tr th:only-of-type {\n",
       "        vertical-align: middle;\n",
       "    }\n",
       "\n",
       "    .dataframe tbody tr th {\n",
       "        vertical-align: top;\n",
       "    }\n",
       "\n",
       "    .dataframe thead th {\n",
       "        text-align: right;\n",
       "    }\n",
       "</style>\n",
       "<table border=\"1\" class=\"dataframe\">\n",
       "  <thead>\n",
       "    <tr style=\"text-align: right;\">\n",
       "      <th></th>\n",
       "      <th>Qf</th>\n",
       "      <th>Time</th>\n",
       "      <th>X</th>\n",
       "      <th>Y</th>\n",
       "      <th>Alpha</th>\n",
       "      <th>Temp(degC)</th>\n",
       "    </tr>\n",
       "  </thead>\n",
       "  <tbody>\n",
       "    <tr>\n",
       "      <th>98167</th>\n",
       "      <td>500</td>\n",
       "      <td>9.5</td>\n",
       "      <td>0.0</td>\n",
       "      <td>1.8</td>\n",
       "      <td>7.493038e-01</td>\n",
       "      <td>101.363952</td>\n",
       "    </tr>\n",
       "    <tr>\n",
       "      <th>117812</th>\n",
       "      <td>500</td>\n",
       "      <td>0.0</td>\n",
       "      <td>45.5</td>\n",
       "      <td>0.0</td>\n",
       "      <td>2.672542e-07</td>\n",
       "      <td>20.009115</td>\n",
       "    </tr>\n",
       "    <tr>\n",
       "      <th>94741</th>\n",
       "      <td>500</td>\n",
       "      <td>1.5</td>\n",
       "      <td>48.0</td>\n",
       "      <td>2.0</td>\n",
       "      <td>3.150581e-02</td>\n",
       "      <td>35.083787</td>\n",
       "    </tr>\n",
       "    <tr>\n",
       "      <th>145734</th>\n",
       "      <td>500</td>\n",
       "      <td>6.5</td>\n",
       "      <td>46.0</td>\n",
       "      <td>2.0</td>\n",
       "      <td>4.570011e-01</td>\n",
       "      <td>78.846961</td>\n",
       "    </tr>\n",
       "    <tr>\n",
       "      <th>147423</th>\n",
       "      <td>500</td>\n",
       "      <td>4.5</td>\n",
       "      <td>1.0</td>\n",
       "      <td>0.0</td>\n",
       "      <td>2.422382e-01</td>\n",
       "      <td>62.570523</td>\n",
       "    </tr>\n",
       "  </tbody>\n",
       "</table>\n",
       "</div>"
      ],
      "text/plain": [
       "         Qf  Time     X    Y         Alpha  Temp(degC)\n",
       "98167   500   9.5   0.0  1.8  7.493038e-01  101.363952\n",
       "117812  500   0.0  45.5  0.0  2.672542e-07   20.009115\n",
       "94741   500   1.5  48.0  2.0  3.150581e-02   35.083787\n",
       "145734  500   6.5  46.0  2.0  4.570011e-01   78.846961\n",
       "147423  500   4.5   1.0  0.0  2.422382e-01   62.570523"
      ]
     },
     "execution_count": 18,
     "metadata": {},
     "output_type": "execute_result"
    }
   ],
   "source": [
    "train_df.head()"
   ]
  },
  {
   "cell_type": "markdown",
   "metadata": {},
   "source": [
    "## Initialize MinMaxScaler"
   ]
  },
  {
   "cell_type": "code",
   "execution_count": 7,
   "metadata": {},
   "outputs": [],
   "source": [
    "t_scaler = MinMaxScaler(feature_range = (1e-7,1))\n",
    "x_scaler = MinMaxScaler(feature_range = (1e-7,1))\n",
    "y_scaler = MinMaxScaler(feature_range = (1e-7,1))\n",
    "T_scaler = MinMaxScaler(feature_range = (1e-7,1))\n",
    "a_scaler = MinMaxScaler(feature_range = (1e-7,1))"
   ]
  },
  {
   "cell_type": "markdown",
   "metadata": {},
   "source": [
    " ## Convert input columns into NumPy Arrays and Scale Them"
   ]
  },
  {
   "cell_type": "code",
   "execution_count": 8,
   "metadata": {},
   "outputs": [],
   "source": [
    "t_np = train_df['Time']\n",
    "x_np = train_df['X']\n",
    "y_np = train_df['Y']\n",
    "alpha_np = train_df['Alpha']\n",
    "temp_np = train_df['Temp(degC)']"
   ]
  },
  {
   "cell_type": "code",
   "execution_count": 9,
   "metadata": {
    "scrolled": true
   },
   "outputs": [],
   "source": [
    "t_np = t_scaler.fit_transform(t_np.to_numpy().reshape(-1,1))\n",
    "x_np = x_scaler.fit_transform(x_np.to_numpy().reshape(-1,1))\n",
    "y_np = y_scaler.fit_transform(y_np.to_numpy().reshape(-1,1))\n",
    "temp_np = T_scaler.fit_transform(temp_np.to_numpy().reshape(-1,1))\n",
    "alpha_np = a_scaler.fit_transform(alpha_np.to_numpy().reshape(-1,1))"
   ]
  },
  {
   "cell_type": "markdown",
   "metadata": {},
   "source": [
    "## Define Inputs and Targets for PINN"
   ]
  },
  {
   "cell_type": "code",
   "execution_count": 10,
   "metadata": {},
   "outputs": [],
   "source": [
    "# Define the necessary inputs and parameter using Variable and Parameter\n",
    "t = sn.Variable('t')\n",
    "x = sn.Variable('x')\n",
    "y = sn.Variable('y')\n",
    "\n",
    "# Define Neural Network Approximations\n",
    "T = sn.Functional('T', [t,x,y], 6*[20], 'tanh')\n",
    "a = sn.Functional('a', [t,x,y], 6*[20], 'tanh')"
   ]
  },
  {
   "cell_type": "markdown",
   "metadata": {},
   "source": [
    "## Define Constants and PDEs"
   ]
  },
  {
   "cell_type": "code",
   "execution_count": 11,
   "metadata": {},
   "outputs": [],
   "source": [
    "# Constants\n",
    "\n",
    "H = 352.1 #1\n",
    "A = 2e5 #2\n",
    "E_a = 51100 #3 \n",
    "n = 1.927 #4\n",
    "p = 980 #5\n",
    "c_p = 1440 #6\n",
    "k = 1.8 #7\n",
    "R = 8.314 #8\n",
    "T_o = 20 #9\n",
    "a_o = 1e-7 #10\n",
    "h = 1.8 #11\n",
    "Q = 500\n",
    "\n",
    "# PDEs\n",
    "from sciann.utils.math import diff, sign, exp, pow\n",
    "\n",
    "L1 = (k/(p*c_p))*diff(T, x, order=2) + (k/(p*c_p))*diff(T, y, order=2) + (H/c_p)*diff(a, t) - diff(T, t)\n",
    "L2 = A*exp((-E_a/(R*T)))*pow(1-a, n)*(1 + 0.36*a) - diff(a, t)"
   ]
  },
  {
   "cell_type": "markdown",
   "metadata": {},
   "source": [
    "## Define Initial & Boundary Conditions"
   ]
  },
  {
   "cell_type": "code",
   "execution_count": 12,
   "metadata": {},
   "outputs": [],
   "source": [
    "# t: [0,15]\n",
    "# x: [0,50]\n",
    "# y: [0,2]\n",
    "# Q: [500,700]\n",
    "\n",
    "tmin = 1e-7\n",
    "Xmin = 1e-7\n",
    "Xmax = 1.0\n",
    "Ymin = 1e-7\n",
    "Ymax = 1.0\n",
    "\n",
    "# Boundary Conditions\n",
    "L3 = (k*diff(T, x))*(1-sign(x - Xmin)) + (h*T)*(1-sign(x - Xmin)) - (h*T_o)*(1-sign(x - Xmin))\n",
    "\n",
    "L4 = (k*diff(T, x))*(1+sign(x - Xmax)) + (h*T)*(1+sign(x - Xmax)) - (h*T_o)*(1+sign(x - Xmax))\n",
    "\n",
    "L5 = (k*diff(T, y))*(1-sign(y - Ymin)) + (h*T)*(1-sign(y - Ymin)) - (h*T_o)*(1-sign(y - Ymin))\n",
    "\n",
    "L6 = (k*diff(T,y) - Q)*(1+sign(y - Ymax))\n",
    "\n",
    "# Initial Conditions\n",
    "L7 = (1-sign(t - tmin))*(T_o)\n",
    "\n",
    "L8 = (1-sign(t - tmin))*(a_o)\n",
    "\n",
    "L9 = sn.Data(T)\n",
    "\n",
    "L10 = sn.Data(a)\n"
   ]
  },
  {
   "cell_type": "markdown",
   "metadata": {},
   "source": [
    "## Build the Model"
   ]
  },
  {
   "cell_type": "code",
   "execution_count": 16,
   "metadata": {},
   "outputs": [
    {
     "name": "stdout",
     "output_type": "stream",
     "text": [
      "\n",
      "Total samples: 12400 \n",
      "Batch size: 64 \n",
      "Total batches: 194 \n",
      "\n",
      "Epoch 1/5000\n",
      "Batch 0: Invalid loss, terminating training\n",
      "194/194 [==============================] - 6s 689us/step - batch: 0.0000e+00 - size: 64.0000 - loss: nan - sub_loss: nan - sub_2_loss: nan - sub_6_loss: nan - sub_10_loss: nan - sub_14_loss: nan - mul_25_loss: nan - mul_26_loss: 6.2500 - mul_27_loss: 1.5625e-16 - T_loss: nan - a_loss: nan - lr: 0.0010 - time: 6.1065\n"
     ]
    }
   ],
   "source": [
    "m = sn.SciModel([t,x,y], [L1,L2,L3,L4,L5,L6,L7,L8,L9,L10], optimizer=\"adam\",loss_func=\"mse\")\n",
    "\n",
    "h = m.train(\n",
    "    [t_np, x_np, y_np], \n",
    "    ['zeros','zeros','zeros','zeros','zeros','zeros','zeros','zeros',temp_np,alpha_np], \n",
    "    epochs=5000,\n",
    "    batch_size=64,\n",
    "    verbose = 1,\n",
    "    shuffle=False)"
   ]
  }
 ],
 "metadata": {
  "kernelspec": {
   "display_name": "Python 3",
   "language": "python",
   "name": "python3"
  },
  "language_info": {
   "codemirror_mode": {
    "name": "ipython",
    "version": 3
   },
   "file_extension": ".py",
   "mimetype": "text/x-python",
   "name": "python",
   "nbconvert_exporter": "python",
   "pygments_lexer": "ipython3",
   "version": "3.8.8"
  }
 },
 "nbformat": 4,
 "nbformat_minor": 4
}
