{
 "cells": [
  {
   "cell_type": "markdown",
   "metadata": {},
   "source": [
    "# Solving Burgers with Transfer Learning"
   ]
  },
  {
   "cell_type": "markdown",
   "metadata": {},
   "source": [
    "## Import Relevant Packages"
   ]
  },
  {
   "cell_type": "code",
   "execution_count": 1,
   "metadata": {
    "scrolled": true
   },
   "outputs": [
    {
     "name": "stdout",
     "output_type": "stream",
     "text": [
      "---------------------- SCIANN 0.6.1.1 ---------------------- \n",
      "For details, check out our review paper and the documentation at: \n",
      " +  \"https://arxiv.org/abs/2005.08803\", \n",
      " +  \"https://www.sciann.com\". \n",
      "\n",
      " Need support or would like to contribute, please join sciann`s slack group: \n",
      " +  \"https://join.slack.com/t/sciann/shared_invite/zt-ne1f5jlx-k_dY8RGo3ZreDXwz0f~CeA\" \n",
      " \n"
     ]
    }
   ],
   "source": [
    "import numpy as np\n",
    "import sciann as sn\n",
    "from tensorflow.keras import callbacks"
   ]
  },
  {
   "cell_type": "markdown",
   "metadata": {},
   "source": [
    "## Get Inputs and Neural Network Approximations"
   ]
  },
  {
   "cell_type": "code",
   "execution_count": 2,
   "metadata": {},
   "outputs": [],
   "source": [
    "# Define the necessary inputs using Variable \n",
    "x = sn.Variable('x') # space\n",
    "t = sn.Variable('t') # time\n",
    "d = sn.Variable('d') # boundary perturbation\n",
    "\n",
    "v_low = 0.05 # viscosity for low fidelity model\n",
    "v_high = .001 # viscosity for high fidelity model\n",
    "\n",
    "# Get neural network predictions for u for the low fidelity model\n",
    "u_low = sn.Functional('u_low', [d,t,x], 8*[20], 'tanh') "
   ]
  },
  {
   "cell_type": "markdown",
   "metadata": {},
   "source": [
    "## Set up Optimization Problem with Boundary Conditions"
   ]
  },
  {
   "cell_type": "code",
   "execution_count": 3,
   "metadata": {},
   "outputs": [],
   "source": [
    "from sciann.utils.math import diff, sign, sin\n",
    "\n",
    "TOL = 0.001\n",
    "# Low fidelity partial differential equation\n",
    "L1 = diff(u_low, t) - v_low * diff(u_low, x, order=2)\n",
    "\n",
    "# Low fidelity boundary conditions\n",
    "L2 = (1 + sign(0-t)) * (u_low - 1 + (1+x)*(1 + d/2))\n",
    "L3 = (1 + sign(-1-x)) * u_low * (1 + d)\n",
    "L4 = (1 + sign(x-1)) * u_low"
   ]
  },
  {
   "cell_type": "markdown",
   "metadata": {},
   "source": [
    "## Build PINN"
   ]
  },
  {
   "cell_type": "code",
   "execution_count": 4,
   "metadata": {
    "scrolled": true
   },
   "outputs": [],
   "source": [
    "m = sn.SciModel([x,t,d], [L1, L2, L3, L4])"
   ]
  },
  {
   "cell_type": "markdown",
   "metadata": {},
   "source": [
    "## Get Training Data"
   ]
  },
  {
   "cell_type": "code",
   "execution_count": 5,
   "metadata": {},
   "outputs": [],
   "source": [
    "x_data, t_data, d_data = np.meshgrid(\n",
    "    np.linspace(-1, 1, 10),\n",
    "    np.linspace(0, 12, 10),\n",
    "    np.linspace(0, 0.1, 10))"
   ]
  },
  {
   "cell_type": "markdown",
   "metadata": {},
   "source": [
    "## Train PINN"
   ]
  },
  {
   "cell_type": "code",
   "execution_count": 6,
   "metadata": {
    "scrolled": true
   },
   "outputs": [
    {
     "name": "stdout",
     "output_type": "stream",
     "text": [
      "\n",
      "Total samples: 1000 \n",
      "Batch size: 64 \n",
      "Total batches: 16 \n",
      "\n"
     ]
    }
   ],
   "source": [
    "h = m.train(\n",
    "    [x_data, t_data, d_data], \n",
    "    4*['zero'], \n",
    "    learning_rate=0.001, \n",
    "    epochs=10000,\n",
    "    callbacks = [callbacks.EarlyStopping(patience = 0)],\n",
    "    verbose = 0)"
   ]
  },
  {
   "cell_type": "markdown",
   "metadata": {},
   "source": [
    "# Transfer Learning"
   ]
  },
  {
   "cell_type": "markdown",
   "metadata": {},
   "source": [
    "## Get 'u' and Set up Optimization Problem and Boundary Conditions for High Fidelity"
   ]
  },
  {
   "cell_type": "code",
   "execution_count": 7,
   "metadata": {},
   "outputs": [],
   "source": [
    "# Get neural network predictions for u for the high fidelity model\n",
    "u_high = sn.Functional('u_high', [d,t,x], 8*[20], 'tanh')\n",
    "\n",
    "# High fidelity partial differential equation\n",
    "L5 = diff(u_high, t) + u_high * diff(u_high, x) - v_high * diff(u_high, x, order=2)\n",
    "\n",
    "# High fidelity boundary conditions (same as low fidelity model)\n",
    "L6 = (1 + sign(0-t)) * (u_high - 1 + (1+x)*(1 + d/2))\n",
    "L7 = (1 + sign(-1-x)) * u_high * (1 + d)\n",
    "L8 = (1 + sign(x-1)) * u_high"
   ]
  },
  {
   "cell_type": "markdown",
   "metadata": {},
   "source": [
    "## Get Information Learned from the Low Fidelity Model to use in the new PINN"
   ]
  },
  {
   "cell_type": "code",
   "execution_count": 8,
   "metadata": {
    "scrolled": true
   },
   "outputs": [
    {
     "name": "stdout",
     "output_type": "stream",
     "text": [
      "Warning: Call 'SciModel' after using set_trainable\n"
     ]
    }
   ],
   "source": [
    "# Set the weights used to approximate the low fidelity u to the weights of the neural network \n",
    "# that will approximate the high fidelity u\n",
    "u_high.set_weights(u_low.get_weights())\n",
    "\n",
    "# Prevent all they layers except the last one from being retrained so the low fidelity model information is not\n",
    "# lost as well as to prevent overfitting\n",
    "u_high.set_trainable(False, [1,2,3,4,5,6,7])"
   ]
  },
  {
   "cell_type": "markdown",
   "metadata": {},
   "source": [
    "## Build the New Multi-Fidelity PINN"
   ]
  },
  {
   "cell_type": "code",
   "execution_count": 9,
   "metadata": {},
   "outputs": [],
   "source": [
    "m2 = sn.SciModel([x,t,d], [L5, L6, L7, L8])"
   ]
  },
  {
   "cell_type": "markdown",
   "metadata": {},
   "source": [
    "## Train PINN"
   ]
  },
  {
   "cell_type": "code",
   "execution_count": 10,
   "metadata": {},
   "outputs": [
    {
     "name": "stdout",
     "output_type": "stream",
     "text": [
      "\n",
      "Total samples: 1000 \n",
      "Batch size: 64 \n",
      "Total batches: 16 \n",
      "\n"
     ]
    }
   ],
   "source": [
    "# Implement an early stopping callback to prevent the model from training when loss increases\n",
    "h2 = m2.train(\n",
    "    [x_data, t_data, d_data], \n",
    "    4*['zero'], \n",
    "    learning_rate=0.001, \n",
    "    epochs=1000,\n",
    "    callbacks = [callbacks.EarlyStopping(patience = 1)],\n",
    "    verbose = 0)"
   ]
  },
  {
   "cell_type": "markdown",
   "metadata": {},
   "source": [
    "## Get Predictions"
   ]
  },
  {
   "cell_type": "code",
   "execution_count": 11,
   "metadata": {},
   "outputs": [],
   "source": [
    "u_pred = u_high.eval(m2, [x_data, t_data, d_data])"
   ]
  },
  {
   "cell_type": "code",
   "execution_count": null,
   "metadata": {},
   "outputs": [],
   "source": []
  }
 ],
 "metadata": {
  "kernelspec": {
   "display_name": "Python 3",
   "language": "python",
   "name": "python3"
  },
  "language_info": {
   "codemirror_mode": {
    "name": "ipython",
    "version": 3
   },
   "file_extension": ".py",
   "mimetype": "text/x-python",
   "name": "python",
   "nbconvert_exporter": "python",
   "pygments_lexer": "ipython3",
   "version": "3.7.6"
  }
 },
 "nbformat": 4,
 "nbformat_minor": 4
}
