{
 "cells": [
  {
   "cell_type": "markdown",
   "metadata": {},
   "source": [
    "# Solving Burgers with Transfer Learning"
   ]
  },
  {
   "cell_type": "markdown",
   "metadata": {},
   "source": [
    "## Import Relevant Packages"
   ]
  },
  {
   "cell_type": "code",
   "execution_count": 1,
   "metadata": {
    "scrolled": true
   },
   "outputs": [
    {
     "name": "stdout",
     "output_type": "stream",
     "text": [
      "---------------------- SCIANN 0.6.1.1 ---------------------- \n",
      "For details, check out our review paper and the documentation at: \n",
      " +  \"https://arxiv.org/abs/2005.08803\", \n",
      " +  \"https://www.sciann.com\". \n",
      "\n",
      " Need support or would like to contribute, please join sciann`s slack group: \n",
      " +  \"https://join.slack.com/t/sciann/shared_invite/zt-ne1f5jlx-k_dY8RGo3ZreDXwz0f~CeA\" \n",
      " \n"
     ]
    }
   ],
   "source": [
    "import numpy as np\n",
    "import sciann as sn\n",
    "import tensorflow as tf"
   ]
  },
  {
   "cell_type": "markdown",
   "metadata": {},
   "source": [
    "## Get Inputs and Neural Network Approximations"
   ]
  },
  {
   "cell_type": "code",
   "execution_count": 2,
   "metadata": {},
   "outputs": [],
   "source": [
    "# Define the necessary inputs using Variable \n",
    "x = sn.Variable('x') # space\n",
    "t = sn.Variable('t') # time\n",
    "d = sn.Variable('d') # boundary perturbation\n",
    "\n",
    "v_low = 0.05 # viscosity for low fidelity model\n",
    "v_high = .001 # viscosity for high fidelity model\n",
    "\n",
    "# Get neural network predictions for u for the low fidelity model\n",
    "u = sn.Functional('u', [d,t,x], 8*[20], 'tanh') "
   ]
  },
  {
   "cell_type": "markdown",
   "metadata": {},
   "source": [
    "## Set up Optimization Problem with Boundary Conditions"
   ]
  },
  {
   "cell_type": "code",
   "execution_count": 3,
   "metadata": {},
   "outputs": [],
   "source": [
    "from sciann.utils.math import diff, sign, sin\n",
    "\n",
    "TOL = 0.001\n",
    "# Low fidelity partial differential equation\n",
    "L1 = diff(u, t) - v_low * diff(u, x, order=2)\n",
    "\n",
    "# Low fidelity boundary conditions\n",
    "L2 = (1 + sign(0-t)) * (u - 1 + (1+x)*(1 + d/2))\n",
    "L3 = (1 + sign(-1-x)) * u * (1 + d)\n",
    "L4 = (1 + sign(x-1)) * u"
   ]
  },
  {
   "cell_type": "markdown",
   "metadata": {},
   "source": [
    "## Build PINN"
   ]
  },
  {
   "cell_type": "code",
   "execution_count": 4,
   "metadata": {
    "scrolled": true
   },
   "outputs": [],
   "source": [
    "m = sn.SciModel([d,t,x], [L1, L2, L3, L4])"
   ]
  },
  {
   "cell_type": "markdown",
   "metadata": {},
   "source": [
    "## Get Training Data"
   ]
  },
  {
   "cell_type": "code",
   "execution_count": 5,
   "metadata": {},
   "outputs": [],
   "source": [
    "x_data, t_data, d_data = np.meshgrid(\n",
    "    np.linspace(-1, 1, 10),\n",
    "    np.linspace(0, 12, 10),\n",
    "    np.linspace(0, 0.1, 10))"
   ]
  },
  {
   "cell_type": "markdown",
   "metadata": {},
   "source": [
    "## Train PINN"
   ]
  },
  {
   "cell_type": "code",
   "execution_count": 6,
   "metadata": {
    "scrolled": false
   },
   "outputs": [
    {
     "name": "stdout",
     "output_type": "stream",
     "text": [
      "\n",
      "Total samples: 1000 \n",
      "Batch size: 64 \n",
      "Total batches: 16 \n",
      "\n",
      "\n",
      "Epoch 02403: ReduceLROnPlateau reducing learning rate to 0.0005000000237487257.\n",
      "\n",
      "Epoch 04554: ReduceLROnPlateau reducing learning rate to 0.0002500000118743628.\n",
      "\n",
      "Epoch 05554: ReduceLROnPlateau reducing learning rate to 0.0001250000059371814.\n",
      "\n",
      "Epoch 06554: ReduceLROnPlateau reducing learning rate to 6.25000029685907e-05.\n",
      "\n",
      "Epoch 07554: ReduceLROnPlateau reducing learning rate to 3.125000148429535e-05.\n",
      "\n",
      "Epoch 08554: ReduceLROnPlateau reducing learning rate to 1.5625000742147677e-05.\n",
      "\n",
      "Epoch 09554: ReduceLROnPlateau reducing learning rate to 7.812500371073838e-06.\n"
     ]
    }
   ],
   "source": [
    "h = m.train(\n",
    "    [d_data, t_data, x_data], \n",
    "    4*['zero'], \n",
    "    learning_rate=0.001, \n",
    "    epochs=10000,\n",
    "    verbose = 0)"
   ]
  },
  {
   "cell_type": "code",
   "execution_count": 7,
   "metadata": {},
   "outputs": [],
   "source": [
    "low_fidelity_layers = u.layers"
   ]
  },
  {
   "cell_type": "markdown",
   "metadata": {},
   "source": [
    "# Transfer Learning"
   ]
  },
  {
   "cell_type": "markdown",
   "metadata": {},
   "source": [
    "## Get 'u' and Information Learned from the Low Fidelity Model to use in the new PINN"
   ]
  },
  {
   "cell_type": "markdown",
   "metadata": {},
   "source": [
    "## Set up Optimization Problem and Boundary Conditions for High Fidelity"
   ]
  },
  {
   "cell_type": "code",
   "execution_count": 8,
   "metadata": {
    "scrolled": true
   },
   "outputs": [],
   "source": [
    "# High fidelity partial differential equation\n",
    "L5 = diff(u, t) + u * diff(u, x) - v_high * diff(u, x, order=2)\n",
    "\n",
    "# High fidelity boundary conditions (same as low fidelity model)\n",
    "x_min = -1\n",
    "x_max = 1\n",
    "L6 = (1 + sign(0-t)) * (u - 1 + (1+x)*(1 + d/2))\n",
    "L7 = (1 + sign(-1-x)) * u * (1 + d)\n",
    "L8 = (1 + sign(x-1)) * u"
   ]
  },
  {
   "cell_type": "markdown",
   "metadata": {},
   "source": [
    "## Freeze Layers of the Low Fidelity Model"
   ]
  },
  {
   "cell_type": "code",
   "execution_count": 9,
   "metadata": {
    "scrolled": false
   },
   "outputs": [],
   "source": [
    "# Prevent all they layers except the last one from being retrained so the low fidelity model information is not\n",
    "# lost as well as to prevent overfitting\n",
    "for layer in u.layers[:-3]:\n",
    "    if layer.count_params() > 0:\n",
    "        layer.trainable = False"
   ]
  },
  {
   "cell_type": "markdown",
   "metadata": {},
   "source": [
    "## Build the New Multi-Fidelity PINN"
   ]
  },
  {
   "cell_type": "code",
   "execution_count": 12,
   "metadata": {},
   "outputs": [],
   "source": [
    "m2 = sn.SciModel([d,t,x], [L5, L6, L7, L8])"
   ]
  },
  {
   "cell_type": "markdown",
   "metadata": {},
   "source": [
    "## Train PINN"
   ]
  },
  {
   "cell_type": "code",
   "execution_count": 13,
   "metadata": {},
   "outputs": [
    {
     "name": "stdout",
     "output_type": "stream",
     "text": [
      "\n",
      "Total samples: 1000 \n",
      "Batch size: 64 \n",
      "Total batches: 16 \n",
      "\n",
      "\n",
      "Epoch 00160: ReduceLROnPlateau reducing learning rate to 0.0005000000237487257.\n",
      "\n",
      "Epoch 00309: ReduceLROnPlateau reducing learning rate to 0.0002500000118743628.\n",
      "\n",
      "Epoch 00409: ReduceLROnPlateau reducing learning rate to 0.0001250000059371814.\n",
      "\n",
      "Epoch 00509: ReduceLROnPlateau reducing learning rate to 6.25000029685907e-05.\n",
      "\n",
      "Epoch 00609: ReduceLROnPlateau reducing learning rate to 3.125000148429535e-05.\n",
      "\n",
      "Epoch 00709: ReduceLROnPlateau reducing learning rate to 1.5625000742147677e-05.\n",
      "\n",
      "Epoch 00809: ReduceLROnPlateau reducing learning rate to 7.812500371073838e-06.\n",
      "\n",
      "Epoch 00909: ReduceLROnPlateau reducing learning rate to 3.906250185536919e-06.\n"
     ]
    }
   ],
   "source": [
    "# Implement an early stopping callback to prevent the model from training when loss increases\n",
    "h2 = m2.train(\n",
    "    [d_data, t_data, x_data], \n",
    "    4*['zero'], \n",
    "    learning_rate=0.001, \n",
    "    epochs=1000,\n",
    "    verbose = 0)"
   ]
  },
  {
   "cell_type": "code",
   "execution_count": 14,
   "metadata": {},
   "outputs": [],
   "source": [
    "multi_fidelity_layers = u.layers"
   ]
  }
 ],
 "metadata": {
  "kernelspec": {
   "display_name": "Python 3",
   "language": "python",
   "name": "python3"
  },
  "language_info": {
   "codemirror_mode": {
    "name": "ipython",
    "version": 3
   },
   "file_extension": ".py",
   "mimetype": "text/x-python",
   "name": "python",
   "nbconvert_exporter": "python",
   "pygments_lexer": "ipython3",
   "version": "3.7.6"
  }
 },
 "nbformat": 4,
 "nbformat_minor": 4
}
