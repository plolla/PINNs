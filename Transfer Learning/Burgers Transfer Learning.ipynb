{
 "cells": [
  {
   "cell_type": "markdown",
   "metadata": {},
   "source": [
    "# Solving Burgers with Transfer Learning"
   ]
  },
  {
   "cell_type": "markdown",
   "metadata": {},
   "source": [
    "## Import Relevant Packages"
   ]
  },
  {
   "cell_type": "code",
   "execution_count": 1,
   "metadata": {},
   "outputs": [
    {
     "name": "stdout",
     "output_type": "stream",
     "text": [
      "---------------------- SCIANN 0.6.1.1 ---------------------- \n",
      "For details, check out our review paper and the documentation at: \n",
      " +  \"https://arxiv.org/abs/2005.08803\", \n",
      " +  \"https://www.sciann.com\". \n",
      "\n",
      " Need support or would like to contribute, please join sciann`s slack group: \n",
      " +  \"https://join.slack.com/t/sciann/shared_invite/zt-ne1f5jlx-k_dY8RGo3ZreDXwz0f~CeA\" \n",
      " \n"
     ]
    }
   ],
   "source": [
    "import numpy as np\n",
    "import sciann as sn\n",
    "from tensorflow.keras import callbacks"
   ]
  },
  {
   "cell_type": "code",
   "execution_count": 2,
   "metadata": {},
   "outputs": [],
   "source": [
    "x = sn.Variable('x')\n",
    "t = sn.Variable('t')\n",
    "d = sn.Variable('d')\n",
    "\n",
    "v_low = 0.05\n",
    "v_high = .001\n",
    "\n",
    "u_low = sn.Functional('u_low', [d,t,x], 8*[20], 'tanh')"
   ]
  },
  {
   "cell_type": "code",
   "execution_count": 3,
   "metadata": {},
   "outputs": [],
   "source": [
    "from sciann.utils.math import diff, sign, sin\n",
    "\n",
    "# Low fidelity model\n",
    "TOL = 0.001\n",
    "L1 = diff(u_low, t) - v_low * diff(u_low, x, order=2)\n",
    "L2 = (1 + sign(0-t)) * (u_low - 1 + (1+x)*(1 + d/2))\n",
    "L3 = (1 + sign(-1-x)) * u_low * (1 + d)\n",
    "L4 = (1 + sign(x-1)) * u_low"
   ]
  },
  {
   "cell_type": "code",
   "execution_count": 4,
   "metadata": {
    "scrolled": true
   },
   "outputs": [],
   "source": [
    "m = sn.SciModel([x,t,d], [L1, L2, L3, L4])"
   ]
  },
  {
   "cell_type": "code",
   "execution_count": 5,
   "metadata": {},
   "outputs": [],
   "source": [
    "x_data, t_data, d_data = np.meshgrid(\n",
    "    np.linspace(-1, 1, 10),\n",
    "    np.linspace(0, 12, 10),\n",
    "    np.linspace(0, 0.1, 5))"
   ]
  },
  {
   "cell_type": "code",
   "execution_count": 7,
   "metadata": {
    "scrolled": true
   },
   "outputs": [
    {
     "name": "stdout",
     "output_type": "stream",
     "text": [
      "\n",
      "Total samples: 500 \n",
      "Batch size: 64 \n",
      "Total batches: 8 \n",
      "\n"
     ]
    }
   ],
   "source": [
    "h = m.train(\n",
    "    [x_data, t_data, d_data], \n",
    "    4*['zero'], \n",
    "    learning_rate=0.002, \n",
    "    epochs=5000,\n",
    "    callbacks = [callbacks.EarlyStopping(patience = 1)],\n",
    "    verbose = 0)"
   ]
  },
  {
   "cell_type": "markdown",
   "metadata": {},
   "source": [
    "## Transfer Learning"
   ]
  },
  {
   "cell_type": "code",
   "execution_count": 8,
   "metadata": {},
   "outputs": [],
   "source": [
    "# High Fidelity Model\n",
    "u_high = sn.Functional('u_high', [d,t,x], 8*[20], 'tanh')\n",
    "\n",
    "L5 = diff(u_high, t) + u_high * diff(u_high, x) - v_high * diff(u_high, x, order=2)\n",
    "L6 = (1 + sign(0-t)) * (u_high - 1 + (1+x)*(1 + d/2))\n",
    "L7 = (1 + sign(-1-x)) * u_high * (1 + d)\n",
    "L8 = (1 + sign(x-1)) * u_high"
   ]
  },
  {
   "cell_type": "code",
   "execution_count": 9,
   "metadata": {},
   "outputs": [
    {
     "name": "stdout",
     "output_type": "stream",
     "text": [
      "Warning: Call 'SciModel' after using set_trainable\n"
     ]
    }
   ],
   "source": [
    "u_high.set_weights(u_low.get_weights())\n",
    "\n",
    "u_high.set_trainable(False, [1,2,3,4,5,6,7])"
   ]
  },
  {
   "cell_type": "code",
   "execution_count": 10,
   "metadata": {},
   "outputs": [],
   "source": [
    "m2 = sn.SciModel([x,t,d], [L5, L6, L7, L8])"
   ]
  },
  {
   "cell_type": "code",
   "execution_count": 11,
   "metadata": {},
   "outputs": [
    {
     "name": "stdout",
     "output_type": "stream",
     "text": [
      "\n",
      "Total samples: 500 \n",
      "Batch size: 64 \n",
      "Total batches: 8 \n",
      "\n"
     ]
    }
   ],
   "source": [
    "h2 = m2.train(\n",
    "    [x_data, t_data, d_data], \n",
    "    4*['zero'], \n",
    "    learning_rate=0.002, \n",
    "    epochs=5000,\n",
    "    callbacks = [callbacks.EarlyStopping(patience = 1)],\n",
    "    verbose = 0)"
   ]
  },
  {
   "cell_type": "code",
   "execution_count": 12,
   "metadata": {},
   "outputs": [],
   "source": [
    "u_pred = u_high.eval(m2, [x_data, t_data, d_data])"
   ]
  },
  {
   "cell_type": "code",
   "execution_count": null,
   "metadata": {},
   "outputs": [],
   "source": []
  }
 ],
 "metadata": {
  "kernelspec": {
   "display_name": "Python 3",
   "language": "python",
   "name": "python3"
  },
  "language_info": {
   "codemirror_mode": {
    "name": "ipython",
    "version": 3
   },
   "file_extension": ".py",
   "mimetype": "text/x-python",
   "name": "python",
   "nbconvert_exporter": "python",
   "pygments_lexer": "ipython3",
   "version": "3.7.6"
  }
 },
 "nbformat": 4,
 "nbformat_minor": 4
}
