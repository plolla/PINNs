{
 "cells": [
  {
   "cell_type": "markdown",
   "metadata": {},
   "source": [
    "# Solving the Navier-Stokes Equation"
   ]
  },
  {
   "cell_type": "markdown",
   "metadata": {},
   "source": [
    "## Import Relevant Packages"
   ]
  },
  {
   "cell_type": "code",
   "execution_count": 1,
   "metadata": {
    "scrolled": true
   },
   "outputs": [
    {
     "name": "stdout",
     "output_type": "stream",
     "text": [
      "---------------------- SCIANN 0.6.0.4 ---------------------- \n",
      "For details, check out our review paper and the documentation at: \n",
      " +  \"https://arxiv.org/abs/2005.08803\", \n",
      " +  \"https://www.sciann.com\". \n",
      "\n"
     ]
    }
   ],
   "source": [
    "import numpy as np\n",
    "import matplotlib.pyplot as plt\n",
    "import sciann as sn\n",
    "import scipy.io as scio"
   ]
  },
  {
   "cell_type": "markdown",
   "metadata": {},
   "source": [
    "## Preprocess Data and Get Training Data"
   ]
  },
  {
   "cell_type": "code",
   "execution_count": 2,
   "metadata": {},
   "outputs": [],
   "source": [
    "def preprocessData(N_train):\n",
    "    data = scio.loadmat('cylinder_nektar_wake.mat')\n",
    "    \n",
    "    U_star = data['U_star'] # N x 2 x T\n",
    "    p_star = data['p_star'] # N x T\n",
    "    t_star = data['t'] # T x 1\n",
    "    X_star = data['X_star'] # N x 2\n",
    "    \n",
    "    N = X_star.shape[0]\n",
    "    T = t_star.shape[0]\n",
    "    \n",
    "    # Get data in form: N x T\n",
    "    \n",
    "    XX = np.tile(X_star[:,0:1], (1,T))\n",
    "    YY = np.tile(X_star[:,1:2], (1,T))\n",
    "    TT = np.tile(t_star, (1,N)).T\n",
    "    \n",
    "    UU = U_star[:,0,:]\n",
    "    VV = U_star[:,1,:]\n",
    "    PP = p_star;\n",
    "    \n",
    "    # Randomizing the data\n",
    "    idx = np.random.choice(N*T, N_train, replace=False)\n",
    "    x = XX.flatten()[idx, None] # None = 1 column\n",
    "    y = YY.flatten()[idx, None]\n",
    "    t = TT.flatten()[idx, None]\n",
    "    \n",
    "    u = UU.flatten()[idx, None]\n",
    "    v = VV.flatten()[idx, None]\n",
    "    p = PP.flatten()[idx, None]\n",
    "    \n",
    "    return (x,y,t,u,v,p)"
   ]
  },
  {
   "cell_type": "code",
   "execution_count": 3,
   "metadata": {},
   "outputs": [],
   "source": [
    "x_train, y_train, t_train, u_train, v_train, p_train = preprocessData(5000)"
   ]
  },
  {
   "cell_type": "markdown",
   "metadata": {},
   "source": [
    "## Define Inputs and Build the DNNs"
   ]
  },
  {
   "cell_type": "code",
   "execution_count": 4,
   "metadata": {},
   "outputs": [],
   "source": [
    "# Inputs\n",
    "t = sn.Variable(\"t\")\n",
    "x = sn.Variable(\"x\")\n",
    "y = sn.Variable(\"y\")\n",
    "\n",
    "## Neural network approximations\n",
    "p = sn.Functional(\"p\", [t,x,y], 8*[20], 'tanh')\n",
    "psi = sn.Functional(\"psi\", [t,x,y], 8*[20], 'tanh')"
   ]
  },
  {
   "cell_type": "markdown",
   "metadata": {},
   "source": [
    "## Define Parameters of the Navier-Stokes Equation"
   ]
  },
  {
   "cell_type": "code",
   "execution_count": 5,
   "metadata": {},
   "outputs": [],
   "source": [
    "lambda1 = sn.Parameter(0.0, inputs = [t,x,y], name = \"lambda1\")\n",
    "lambda2 = sn.Parameter(0.0, inputs = [t,x,y], name = \"lambda2\")"
   ]
  },
  {
   "cell_type": "markdown",
   "metadata": {},
   "source": [
    "## Evaluate Reqired Derivatives"
   ]
  },
  {
   "cell_type": "code",
   "execution_count": 6,
   "metadata": {},
   "outputs": [],
   "source": [
    "from sciann.utils.math import diff\n",
    "\n",
    "u,v = diff(psi,y), -diff(psi, x)\n",
    "u_t, v_t = diff(u,t), diff(v,t)\n",
    "u_x, v_x = diff(u,x), diff(v,x)\n",
    "u_y, v_y = diff(u,y), diff(v,y)\n",
    "\n",
    "u_xx, u_yy = diff(u,x,order=2), diff(u,y, order=2)\n",
    "v_xx, v_yy = diff(v,x,order=2), diff(v,y, order=2)\n",
    "\n",
    "p_x, p_y = diff(p,x), diff(p,y)"
   ]
  },
  {
   "cell_type": "markdown",
   "metadata": {},
   "source": [
    "## Set Up Constraints"
   ]
  },
  {
   "cell_type": "code",
   "execution_count": 7,
   "metadata": {},
   "outputs": [],
   "source": [
    "L1 = u_t + p_x + lambda1*(u*u_x + v*u_y) - lambda2*(u_xx + u_yy)\n",
    "L2 = v_t + p_y + lambda1*(u*v_x + v*v_y) - lambda2*(v_xx + v_yy)\n",
    "L3 = u\n",
    "L4 = v\n",
    "L5 = p\n",
    "L6 = psi*0\n",
    "L7 = u_x + v_y"
   ]
  },
  {
   "cell_type": "markdown",
   "metadata": {},
   "source": [
    "## Build PINN"
   ]
  },
  {
   "cell_type": "code",
   "execution_count": 8,
   "metadata": {},
   "outputs": [
    {
     "name": "stdout",
     "output_type": "stream",
     "text": [
      "\n",
      "Epoch 05644: ReduceLROnPlateau reducing learning rate to 0.0005000000237487257.\n",
      "\n",
      "Epoch 08862: ReduceLROnPlateau reducing learning rate to 0.0002500000118743628.\n"
     ]
    }
   ],
   "source": [
    "m = sn.SciModel(\n",
    "    inputs=[x, y, t],\n",
    "    targets=[L1, L2, L3, L4, L5, L6, L7]\n",
    ")\n",
    "\n",
    "h = m.train(\n",
    "    [x_train, y_train, t_train],\n",
    "    ['zeros', 'zeros', u_train, v_train, p_train, 'zeros', 'zeros'],\n",
    "    epochs=10000,\n",
    "    learning_rate = 0.001,\n",
    "    verbose=0\n",
    ")"
   ]
  },
  {
   "cell_type": "code",
   "execution_count": 9,
   "metadata": {},
   "outputs": [
    {
     "data": {
      "text/plain": [
       "array([0.99951726], dtype=float32)"
      ]
     },
     "execution_count": 9,
     "metadata": {},
     "output_type": "execute_result"
    }
   ],
   "source": [
    "lambda1.value"
   ]
  },
  {
   "cell_type": "code",
   "execution_count": 10,
   "metadata": {},
   "outputs": [
    {
     "data": {
      "text/plain": [
       "array([0.01012599], dtype=float32)"
      ]
     },
     "execution_count": 10,
     "metadata": {},
     "output_type": "execute_result"
    }
   ],
   "source": [
    "lambda2.value"
   ]
  },
  {
   "cell_type": "code",
   "execution_count": 11,
   "metadata": {},
   "outputs": [
    {
     "data": {
      "text/plain": [
       "Text(0, 0.5, 'loss')"
      ]
     },
     "execution_count": 11,
     "metadata": {},
     "output_type": "execute_result"
    },
    {
     "data": {
      "image/png": "[encoded data removed]",
      "text/plain": [
       "<Figure size 432x288 with 1 Axes>"
      ]
     },
     "metadata": {
      "needs_background": "light"
     },
     "output_type": "display_data"
    }
   ],
   "source": [
    "plt.semilogy(h.history['loss'])\n",
    "plt.xlabel('epochs')\n",
    "plt.ylabel('loss')"
   ]
  },
  {
   "cell_type": "code",
   "execution_count": null,
   "metadata": {},
   "outputs": [],
   "source": []
  }
 ],
 "metadata": {
  "kernelspec": {
   "display_name": "Python [conda env:py3-TF2.0]",
   "language": "python",
   "name": "conda-env-py3-TF2.0-py"
  },
  "language_info": {
   "codemirror_mode": {
    "name": "ipython",
    "version": 3
   },
   "file_extension": ".py",
   "mimetype": "text/x-python",
   "name": "python",
   "nbconvert_exporter": "python",
   "pygments_lexer": "ipython3",
   "version": "3.7.7"
  }
 },
 "nbformat": 4,
 "nbformat_minor": 4
}
