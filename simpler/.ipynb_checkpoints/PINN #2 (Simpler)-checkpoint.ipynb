{
 "cells": [
  {
   "cell_type": "markdown",
   "metadata": {},
   "source": [
    "# PINN #2 (Simpler)"
   ]
  },
  {
   "cell_type": "markdown",
   "metadata": {},
   "source": [
    "## Import Relevant Packages"
   ]
  },
  {
   "cell_type": "code",
   "execution_count": 1,
   "metadata": {
    "scrolled": true
   },
   "outputs": [
    {
     "name": "stdout",
     "output_type": "stream",
     "text": [
      "---------------------- SCIANN 0.6.1.1 ---------------------- \n",
      "For details, check out our review paper and the documentation at: \n",
      " +  \"https://arxiv.org/abs/2005.08803\", \n",
      " +  \"https://www.sciann.com\". \n",
      "\n",
      " Need support or would like to contribute, please join sciann`s slack group: \n",
      " +  \"https://join.slack.com/t/sciann/shared_invite/zt-ne1f5jlx-k_dY8RGo3ZreDXwz0f~CeA\" \n",
      " \n"
     ]
    }
   ],
   "source": [
    "import pandas as pd\n",
    "from sciann import Variable, Functional, SciModel\n",
    "import numpy as np"
   ]
  },
  {
   "cell_type": "markdown",
   "metadata": {},
   "source": [
    "## Load Data from Folder"
   ]
  },
  {
   "cell_type": "code",
   "execution_count": 2,
   "metadata": {},
   "outputs": [
    {
     "data": {
      "text/html": [
       "<div>\n",
       "<style scoped>\n",
       "    .dataframe tbody tr th:only-of-type {\n",
       "        vertical-align: middle;\n",
       "    }\n",
       "\n",
       "    .dataframe tbody tr th {\n",
       "        vertical-align: top;\n",
       "    }\n",
       "\n",
       "    .dataframe thead th {\n",
       "        text-align: right;\n",
       "    }\n",
       "</style>\n",
       "<table border=\"1\" class=\"dataframe\">\n",
       "  <thead>\n",
       "    <tr style=\"text-align: right;\">\n",
       "      <th></th>\n",
       "      <th>T_Bottom</th>\n",
       "      <th>Time</th>\n",
       "      <th>X</th>\n",
       "      <th>Y</th>\n",
       "      <th>Temp(degC)</th>\n",
       "    </tr>\n",
       "  </thead>\n",
       "  <tbody>\n",
       "    <tr>\n",
       "      <th>0</th>\n",
       "      <td>100</td>\n",
       "      <td>0.0</td>\n",
       "      <td>0.5</td>\n",
       "      <td>1.00</td>\n",
       "      <td>20.012003</td>\n",
       "    </tr>\n",
       "    <tr>\n",
       "      <th>1</th>\n",
       "      <td>100</td>\n",
       "      <td>0.0</td>\n",
       "      <td>1.0</td>\n",
       "      <td>1.00</td>\n",
       "      <td>19.997972</td>\n",
       "    </tr>\n",
       "    <tr>\n",
       "      <th>2</th>\n",
       "      <td>100</td>\n",
       "      <td>0.0</td>\n",
       "      <td>1.5</td>\n",
       "      <td>1.00</td>\n",
       "      <td>19.995835</td>\n",
       "    </tr>\n",
       "    <tr>\n",
       "      <th>3</th>\n",
       "      <td>100</td>\n",
       "      <td>0.0</td>\n",
       "      <td>2.0</td>\n",
       "      <td>1.00</td>\n",
       "      <td>19.992627</td>\n",
       "    </tr>\n",
       "    <tr>\n",
       "      <th>4</th>\n",
       "      <td>100</td>\n",
       "      <td>0.0</td>\n",
       "      <td>2.5</td>\n",
       "      <td>1.00</td>\n",
       "      <td>19.993528</td>\n",
       "    </tr>\n",
       "    <tr>\n",
       "      <th>...</th>\n",
       "      <td>...</td>\n",
       "      <td>...</td>\n",
       "      <td>...</td>\n",
       "      <td>...</td>\n",
       "      <td>...</td>\n",
       "    </tr>\n",
       "    <tr>\n",
       "      <th>3095</th>\n",
       "      <td>100</td>\n",
       "      <td>15.0</td>\n",
       "      <td>50.0</td>\n",
       "      <td>1.92</td>\n",
       "      <td>99.616917</td>\n",
       "    </tr>\n",
       "    <tr>\n",
       "      <th>3096</th>\n",
       "      <td>100</td>\n",
       "      <td>15.0</td>\n",
       "      <td>50.0</td>\n",
       "      <td>1.94</td>\n",
       "      <td>99.613966</td>\n",
       "    </tr>\n",
       "    <tr>\n",
       "      <th>3097</th>\n",
       "      <td>100</td>\n",
       "      <td>15.0</td>\n",
       "      <td>50.0</td>\n",
       "      <td>1.96</td>\n",
       "      <td>99.611026</td>\n",
       "    </tr>\n",
       "    <tr>\n",
       "      <th>3098</th>\n",
       "      <td>100</td>\n",
       "      <td>15.0</td>\n",
       "      <td>50.0</td>\n",
       "      <td>1.98</td>\n",
       "      <td>99.608099</td>\n",
       "    </tr>\n",
       "    <tr>\n",
       "      <th>3099</th>\n",
       "      <td>100</td>\n",
       "      <td>15.0</td>\n",
       "      <td>50.0</td>\n",
       "      <td>2.00</td>\n",
       "      <td>99.605184</td>\n",
       "    </tr>\n",
       "  </tbody>\n",
       "</table>\n",
       "<p>15500 rows × 5 columns</p>\n",
       "</div>"
      ],
      "text/plain": [
       "      T_Bottom  Time     X     Y  Temp(degC)\n",
       "0          100   0.0   0.5  1.00   20.012003\n",
       "1          100   0.0   1.0  1.00   19.997972\n",
       "2          100   0.0   1.5  1.00   19.995835\n",
       "3          100   0.0   2.0  1.00   19.992627\n",
       "4          100   0.0   2.5  1.00   19.993528\n",
       "...        ...   ...   ...   ...         ...\n",
       "3095       100  15.0  50.0  1.92   99.616917\n",
       "3096       100  15.0  50.0  1.94   99.613966\n",
       "3097       100  15.0  50.0  1.96   99.611026\n",
       "3098       100  15.0  50.0  1.98   99.608099\n",
       "3099       100  15.0  50.0  2.00   99.605184\n",
       "\n",
       "[15500 rows x 5 columns]"
      ]
     },
     "execution_count": 2,
     "metadata": {},
     "output_type": "execute_result"
    }
   ],
   "source": [
    "import glob\n",
    "\n",
    "df = pd.concat(map(pd.read_csv, glob.glob('data/*.csv')))\n",
    "df"
   ]
  },
  {
   "cell_type": "code",
   "execution_count": 3,
   "metadata": {},
   "outputs": [
    {
     "data": {
      "text/html": [
       "<div>\n",
       "<style scoped>\n",
       "    .dataframe tbody tr th:only-of-type {\n",
       "        vertical-align: middle;\n",
       "    }\n",
       "\n",
       "    .dataframe tbody tr th {\n",
       "        vertical-align: top;\n",
       "    }\n",
       "\n",
       "    .dataframe thead th {\n",
       "        text-align: right;\n",
       "    }\n",
       "</style>\n",
       "<table border=\"1\" class=\"dataframe\">\n",
       "  <thead>\n",
       "    <tr style=\"text-align: right;\">\n",
       "      <th></th>\n",
       "      <th>T_Bottom</th>\n",
       "      <th>Time</th>\n",
       "      <th>X</th>\n",
       "      <th>Y</th>\n",
       "      <th>Temp(degC)</th>\n",
       "    </tr>\n",
       "  </thead>\n",
       "  <tbody>\n",
       "    <tr>\n",
       "      <th>0</th>\n",
       "      <td>100</td>\n",
       "      <td>9.5</td>\n",
       "      <td>2.5</td>\n",
       "      <td>2.00</td>\n",
       "      <td>99.734648</td>\n",
       "    </tr>\n",
       "    <tr>\n",
       "      <th>1</th>\n",
       "      <td>100</td>\n",
       "      <td>11.5</td>\n",
       "      <td>32.5</td>\n",
       "      <td>0.00</td>\n",
       "      <td>100.000000</td>\n",
       "    </tr>\n",
       "    <tr>\n",
       "      <th>2</th>\n",
       "      <td>100</td>\n",
       "      <td>3.0</td>\n",
       "      <td>43.5</td>\n",
       "      <td>0.00</td>\n",
       "      <td>100.000000</td>\n",
       "    </tr>\n",
       "    <tr>\n",
       "      <th>3</th>\n",
       "      <td>100</td>\n",
       "      <td>9.0</td>\n",
       "      <td>44.5</td>\n",
       "      <td>1.00</td>\n",
       "      <td>99.896517</td>\n",
       "    </tr>\n",
       "    <tr>\n",
       "      <th>4</th>\n",
       "      <td>100</td>\n",
       "      <td>2.5</td>\n",
       "      <td>50.0</td>\n",
       "      <td>1.24</td>\n",
       "      <td>99.728891</td>\n",
       "    </tr>\n",
       "    <tr>\n",
       "      <th>...</th>\n",
       "      <td>...</td>\n",
       "      <td>...</td>\n",
       "      <td>...</td>\n",
       "      <td>...</td>\n",
       "      <td>...</td>\n",
       "    </tr>\n",
       "    <tr>\n",
       "      <th>15495</th>\n",
       "      <td>100</td>\n",
       "      <td>4.5</td>\n",
       "      <td>7.5</td>\n",
       "      <td>0.00</td>\n",
       "      <td>100.000000</td>\n",
       "    </tr>\n",
       "    <tr>\n",
       "      <th>15496</th>\n",
       "      <td>100</td>\n",
       "      <td>11.0</td>\n",
       "      <td>50.0</td>\n",
       "      <td>0.00</td>\n",
       "      <td>100.000000</td>\n",
       "    </tr>\n",
       "    <tr>\n",
       "      <th>15497</th>\n",
       "      <td>100</td>\n",
       "      <td>4.5</td>\n",
       "      <td>29.0</td>\n",
       "      <td>0.00</td>\n",
       "      <td>100.000000</td>\n",
       "    </tr>\n",
       "    <tr>\n",
       "      <th>15498</th>\n",
       "      <td>100</td>\n",
       "      <td>6.5</td>\n",
       "      <td>0.0</td>\n",
       "      <td>0.56</td>\n",
       "      <td>99.857217</td>\n",
       "    </tr>\n",
       "    <tr>\n",
       "      <th>15499</th>\n",
       "      <td>100</td>\n",
       "      <td>14.5</td>\n",
       "      <td>43.5</td>\n",
       "      <td>2.00</td>\n",
       "      <td>99.805669</td>\n",
       "    </tr>\n",
       "  </tbody>\n",
       "</table>\n",
       "<p>15500 rows × 5 columns</p>\n",
       "</div>"
      ],
      "text/plain": [
       "       T_Bottom  Time     X     Y  Temp(degC)\n",
       "0           100   9.5   2.5  2.00   99.734648\n",
       "1           100  11.5  32.5  0.00  100.000000\n",
       "2           100   3.0  43.5  0.00  100.000000\n",
       "3           100   9.0  44.5  1.00   99.896517\n",
       "4           100   2.5  50.0  1.24   99.728891\n",
       "...         ...   ...   ...   ...         ...\n",
       "15495       100   4.5   7.5  0.00  100.000000\n",
       "15496       100  11.0  50.0  0.00  100.000000\n",
       "15497       100   4.5  29.0  0.00  100.000000\n",
       "15498       100   6.5   0.0  0.56   99.857217\n",
       "15499       100  14.5  43.5  2.00   99.805669\n",
       "\n",
       "[15500 rows x 5 columns]"
      ]
     },
     "execution_count": 3,
     "metadata": {},
     "output_type": "execute_result"
    }
   ],
   "source": [
    "# Shuffle the data so it's easy for the model to learn\n",
    "df = df.sample(frac=1).reset_index(drop=True)\n",
    "df"
   ]
  },
  {
   "cell_type": "code",
   "execution_count": 4,
   "metadata": {
    "scrolled": true
   },
   "outputs": [
    {
     "data": {
      "text/html": [
       "<div>\n",
       "<style scoped>\n",
       "    .dataframe tbody tr th:only-of-type {\n",
       "        vertical-align: middle;\n",
       "    }\n",
       "\n",
       "    .dataframe tbody tr th {\n",
       "        vertical-align: top;\n",
       "    }\n",
       "\n",
       "    .dataframe thead th {\n",
       "        text-align: right;\n",
       "    }\n",
       "</style>\n",
       "<table border=\"1\" class=\"dataframe\">\n",
       "  <thead>\n",
       "    <tr style=\"text-align: right;\">\n",
       "      <th></th>\n",
       "      <th>T_Bottom</th>\n",
       "      <th>Time</th>\n",
       "      <th>X</th>\n",
       "      <th>Y</th>\n",
       "      <th>Temp(degC)</th>\n",
       "    </tr>\n",
       "  </thead>\n",
       "  <tbody>\n",
       "  </tbody>\n",
       "</table>\n",
       "</div>"
      ],
      "text/plain": [
       "Empty DataFrame\n",
       "Columns: [T_Bottom, Time, X, Y, Temp(degC)]\n",
       "Index: []"
      ]
     },
     "execution_count": 4,
     "metadata": {},
     "output_type": "execute_result"
    }
   ],
   "source": [
    "pd.set_option(\"display.max_rows\", None, \"display.max_columns\", None)\n",
    "df[df.isna().any(axis=1)]"
   ]
  },
  {
   "cell_type": "markdown",
   "metadata": {},
   "source": [
    "## Convert columns into NumPy arrays and scale them"
   ]
  },
  {
   "cell_type": "code",
   "execution_count": 5,
   "metadata": {},
   "outputs": [],
   "source": [
    "t_np = df['Time']\n",
    "x_np = df['X']\n",
    "y_np = df['Y']\n",
    "temp_np = df['Temp(degC)']\n",
    "\n",
    "t_np = (t_np.to_numpy().reshape(-1,1))\n",
    "x_np = (x_np.to_numpy().reshape(-1,1))\n",
    "y_np = (y_np.to_numpy().reshape(-1,1))\n",
    "temp_np = (temp_np.to_numpy().reshape(-1,1))"
   ]
  },
  {
   "cell_type": "markdown",
   "metadata": {},
   "source": [
    "## Define Inputs and Targets for PINN"
   ]
  },
  {
   "cell_type": "code",
   "execution_count": 6,
   "metadata": {},
   "outputs": [],
   "source": [
    "# Define the necessary inputs and parameter using Variable and Parameter\n",
    "t = Variable('t')\n",
    "x = Variable('x')\n",
    "y = Variable('y')\n",
    "\n",
    "# Define Neural Network Approximations\n",
    "T = Functional('T', [t,x,y], 8*[20], 'tanh')"
   ]
  },
  {
   "cell_type": "markdown",
   "metadata": {},
   "source": [
    "## Define Scaling Factors"
   ]
  },
  {
   "cell_type": "code",
   "execution_count": 7,
   "metadata": {},
   "outputs": [],
   "source": [
    "from sciann import Parameter\n",
    "lambda1 = Parameter(val=0.0, min_max = [0,1e-6], inputs=[t,x,y], name=\"lambda1\")\n",
    "lambda2 = Parameter(val=0.0, min_max = [0,1e-6], inputs=[t,x,y], name=\"lambda2\")\n",
    "lambda3 = Parameter(val=0.0, min_max = [0,1e-6], inputs=[t,x,y], name=\"lambda3\")\n",
    "lambda4 = Parameter(val=0.0, min_max = [0,1e-6], inputs=[t,x,y], name=\"lambda4\")\n",
    "lambda5 = Parameter(val=0.0, min_max = [0,1e-6], inputs=[t,x,y], name=\"lambda5\")\n",
    "lambda6 = Parameter(val=0.0, min_max = [0,1e-6], inputs=[t,x,y], name=\"lambda6\")"
   ]
  },
  {
   "cell_type": "markdown",
   "metadata": {},
   "source": [
    "## Define Constants and PDE"
   ]
  },
  {
   "cell_type": "code",
   "execution_count": 8,
   "metadata": {},
   "outputs": [],
   "source": [
    "# Constants\n",
    "\n",
    "H = 352.1 #1\n",
    "A = 2e5 #2\n",
    "E_a = 51100 #3 \n",
    "n = 1.927 #4\n",
    "p = 980 #5\n",
    "c_p = 1440 #6\n",
    "k = 1.8 #7\n",
    "R = 8.314 #8\n",
    "T_o = 20 #9\n",
    "a_o = 0 #10\n",
    "h = 1.8 #11\n",
    "T_bottom = 100 #12\n",
    "\n",
    "# PDE\n",
    "from sciann.utils.math import diff, sign, exp, pow\n",
    "T_xx = diff(T, x, order=2)\n",
    "T_yy = diff(T, y, order=2)\n",
    "T_t = diff(T,t)\n",
    "\n",
    "L1 = (k/(p*c_p))*T_xx + (k/(p*c_p))*T_yy - T_t"
   ]
  },
  {
   "cell_type": "markdown",
   "metadata": {},
   "source": [
    "## Define Initial and Boundary Conditions"
   ]
  },
  {
   "cell_type": "code",
   "execution_count": 9,
   "metadata": {},
   "outputs": [],
   "source": [
    "# t: [0,15]\n",
    "# x: [0,50]\n",
    "# y: [0,2]\n",
    "# Q: [500,700]\n",
    "\n",
    "tmin = 0\n",
    "Xmin = 0\n",
    "Xmax = 50\n",
    "Ymin = 0\n",
    "Ymax = 2\n",
    "\n",
    "# Boundary Conditions\n",
    "L2 = (k*diff(T, x))*(1-sign(x - Xmin)) + (h*T)*(1-sign(x - Xmin)) - (h*T_o)*(1-sign(x - Xmin))\n",
    "\n",
    "L3 = (k*diff(T, x))*(1+sign(x - Xmax)) + (h*T)*(1+sign(x - Xmax)) - (h*T_o)*(1+sign(x - Xmax))\n",
    "\n",
    "L4 = (k*diff(T, y))*(1-sign(y - Ymin)) + (h*T)*(1-sign(y - Ymin)) - (h*T_o)*(1-sign(y - Ymin))\n",
    "\n",
    "L5 = (diff(T,y) - T_bottom)*(1+sign(y - Ymin))\n",
    "\n",
    "# Initial Conditions\n",
    "L6 = (1-sign(t - tmin))*(T-T_o)\n",
    "\n",
    "L_TOTAL = lambda1*L1 + lambda2*L2 + lambda3*L3 + lambda4*L4 + lambda5*L5 + lambda6*L6\n",
    "L_DATA = T"
   ]
  },
  {
   "cell_type": "markdown",
   "metadata": {},
   "source": [
    "## Build and Train Model"
   ]
  },
  {
   "cell_type": "code",
   "execution_count": 10,
   "metadata": {},
   "outputs": [],
   "source": [
    "m = SciModel([t,x,y], [L_TOTAL, L_DATA])"
   ]
  },
  {
   "cell_type": "code",
   "execution_count": 11,
   "metadata": {
    "scrolled": true
   },
   "outputs": [
    {
     "name": "stdout",
     "output_type": "stream",
     "text": [
      "\n",
      "Total samples: 15500 \n",
      "Batch size: 128 \n",
      "Total batches: 122 \n",
      "\n",
      "\n",
      "Epoch 05009: ReduceLROnPlateau reducing learning rate to 0.0005000000237487257.\n",
      "\n",
      "Epoch 13863: ReduceLROnPlateau reducing learning rate to 0.0002500000118743628.\n"
     ]
    }
   ],
   "source": [
    "h = m.train(\n",
    "    [t_np, x_np, y_np], \n",
    "    ['zeros', temp_np], \n",
    "    epochs=15000,\n",
    "    batch_size=128,\n",
    "    verbose = 0,\n",
    "    shuffle=False)"
   ]
  },
  {
   "cell_type": "markdown",
   "metadata": {},
   "source": [
    "## Get Model Predictions"
   ]
  },
  {
   "cell_type": "code",
   "execution_count": 15,
   "metadata": {},
   "outputs": [
    {
     "data": {
      "text/plain": [
       "array(99.73898, dtype=float32)"
      ]
     },
     "execution_count": 15,
     "metadata": {},
     "output_type": "execute_result"
    }
   ],
   "source": [
    "# Actual Value (99.734648)\n",
    "T.eval([np.array(9.5), np.array(2.5), np.array(2.0)])"
   ]
  },
  {
   "cell_type": "code",
   "execution_count": 12,
   "metadata": {},
   "outputs": [],
   "source": [
    "T_pred = T.eval([t_np, x_np, y_np])"
   ]
  },
  {
   "cell_type": "code",
   "execution_count": 16,
   "metadata": {},
   "outputs": [
    {
     "name": "stdout",
     "output_type": "stream",
     "text": [
      "TEMPERATURE RMSE: \n",
      "0.016\n"
     ]
    }
   ],
   "source": [
    "from sklearn.metrics import mean_squared_error as mse\n",
    "import math\n",
    "print('TEMPERATURE RMSE: ')\n",
    "print(round(math.sqrt(mse(temp_np, T_pred)), 3))"
   ]
  },
  {
   "cell_type": "code",
   "execution_count": 17,
   "metadata": {},
   "outputs": [
    {
     "data": {
      "text/plain": [
       "Text(0, 0.5, 'loss')"
      ]
     },
     "execution_count": 17,
     "metadata": {},
     "output_type": "execute_result"
    },
    {
     "data": {
      "image/png": "[encoded data removed]",
      "text/plain": [
       "<Figure size 432x288 with 1 Axes>"
      ]
     },
     "metadata": {
      "needs_background": "light"
     },
     "output_type": "display_data"
    }
   ],
   "source": [
    "import matplotlib.pyplot as plt\n",
    "plt.semilogy(h.history['loss'])\n",
    "plt.xlabel('epochs')\n",
    "plt.ylabel('loss')"
   ]
  },
  {
   "cell_type": "code",
   "execution_count": null,
   "metadata": {},
   "outputs": [],
   "source": []
  }
 ],
 "metadata": {
  "kernelspec": {
   "display_name": "Python 3",
   "language": "python",
   "name": "python3"
  },
  "language_info": {
   "codemirror_mode": {
    "name": "ipython",
    "version": 3
   },
   "file_extension": ".py",
   "mimetype": "text/x-python",
   "name": "python",
   "nbconvert_exporter": "python",
   "pygments_lexer": "ipython3",
   "version": "3.7.6"
  }
 },
 "nbformat": 4,
 "nbformat_minor": 4
}
