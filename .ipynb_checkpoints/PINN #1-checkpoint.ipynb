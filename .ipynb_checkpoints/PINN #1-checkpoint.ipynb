{
 "cells": [
  {
   "cell_type": "code",
   "execution_count": 1,
   "metadata": {},
   "outputs": [
    {
     "name": "stdout",
     "output_type": "stream",
     "text": [
      "---------------------- SCIANN 0.6.1.1 ---------------------- \n",
      "For details, check out our review paper and the documentation at: \n",
      " +  \"https://arxiv.org/abs/2005.08803\", \n",
      " +  \"https://www.sciann.com\". \n",
      "\n",
      " Need support or would like to contribute, please join sciann`s slack group: \n",
      " +  \"https://join.slack.com/t/sciann/shared_invite/zt-ne1f5jlx-k_dY8RGo3ZreDXwz0f~CeA\" \n",
      " \n"
     ]
    }
   ],
   "source": [
    "import pandas as pd\n",
    "import sciann as sn\n",
    "import numpy as np"
   ]
  },
  {
   "cell_type": "code",
   "execution_count": 2,
   "metadata": {},
   "outputs": [
    {
     "data": {
      "text/html": [
       "<div>\n",
       "<style scoped>\n",
       "    .dataframe tbody tr th:only-of-type {\n",
       "        vertical-align: middle;\n",
       "    }\n",
       "\n",
       "    .dataframe tbody tr th {\n",
       "        vertical-align: top;\n",
       "    }\n",
       "\n",
       "    .dataframe thead th {\n",
       "        text-align: right;\n",
       "    }\n",
       "</style>\n",
       "<table border=\"1\" class=\"dataframe\">\n",
       "  <thead>\n",
       "    <tr style=\"text-align: right;\">\n",
       "      <th></th>\n",
       "      <th>Qf</th>\n",
       "      <th>Time</th>\n",
       "      <th>X</th>\n",
       "      <th>Y</th>\n",
       "      <th>Alpha</th>\n",
       "      <th>Temp(degC)</th>\n",
       "    </tr>\n",
       "  </thead>\n",
       "  <tbody>\n",
       "    <tr>\n",
       "      <th>0</th>\n",
       "      <td>520</td>\n",
       "      <td>0.0</td>\n",
       "      <td>0.5</td>\n",
       "      <td>2.00</td>\n",
       "      <td>2.671200e-07</td>\n",
       "      <td>20.000000</td>\n",
       "    </tr>\n",
       "    <tr>\n",
       "      <th>1</th>\n",
       "      <td>520</td>\n",
       "      <td>0.0</td>\n",
       "      <td>1.0</td>\n",
       "      <td>2.00</td>\n",
       "      <td>2.671200e-07</td>\n",
       "      <td>20.000000</td>\n",
       "    </tr>\n",
       "    <tr>\n",
       "      <th>2</th>\n",
       "      <td>520</td>\n",
       "      <td>0.0</td>\n",
       "      <td>1.5</td>\n",
       "      <td>2.00</td>\n",
       "      <td>2.671200e-07</td>\n",
       "      <td>20.000000</td>\n",
       "    </tr>\n",
       "    <tr>\n",
       "      <th>3</th>\n",
       "      <td>520</td>\n",
       "      <td>0.0</td>\n",
       "      <td>2.0</td>\n",
       "      <td>2.00</td>\n",
       "      <td>2.671200e-07</td>\n",
       "      <td>20.000000</td>\n",
       "    </tr>\n",
       "    <tr>\n",
       "      <th>4</th>\n",
       "      <td>520</td>\n",
       "      <td>0.0</td>\n",
       "      <td>2.5</td>\n",
       "      <td>2.00</td>\n",
       "      <td>2.671200e-07</td>\n",
       "      <td>20.000000</td>\n",
       "    </tr>\n",
       "    <tr>\n",
       "      <th>...</th>\n",
       "      <td>...</td>\n",
       "      <td>...</td>\n",
       "      <td>...</td>\n",
       "      <td>...</td>\n",
       "      <td>...</td>\n",
       "      <td>...</td>\n",
       "    </tr>\n",
       "    <tr>\n",
       "      <th>3095</th>\n",
       "      <td>600</td>\n",
       "      <td>15.0</td>\n",
       "      <td>50.0</td>\n",
       "      <td>1.92</td>\n",
       "      <td>9.769047e-01</td>\n",
       "      <td>160.016833</td>\n",
       "    </tr>\n",
       "    <tr>\n",
       "      <th>3096</th>\n",
       "      <td>600</td>\n",
       "      <td>15.0</td>\n",
       "      <td>50.0</td>\n",
       "      <td>1.94</td>\n",
       "      <td>9.769034e-01</td>\n",
       "      <td>160.013898</td>\n",
       "    </tr>\n",
       "    <tr>\n",
       "      <th>3097</th>\n",
       "      <td>600</td>\n",
       "      <td>15.0</td>\n",
       "      <td>50.0</td>\n",
       "      <td>1.96</td>\n",
       "      <td>9.769021e-01</td>\n",
       "      <td>160.011001</td>\n",
       "    </tr>\n",
       "    <tr>\n",
       "      <th>3098</th>\n",
       "      <td>600</td>\n",
       "      <td>15.0</td>\n",
       "      <td>50.0</td>\n",
       "      <td>1.98</td>\n",
       "      <td>9.769008e-01</td>\n",
       "      <td>160.008143</td>\n",
       "    </tr>\n",
       "    <tr>\n",
       "      <th>3099</th>\n",
       "      <td>600</td>\n",
       "      <td>15.0</td>\n",
       "      <td>50.0</td>\n",
       "      <td>2.00</td>\n",
       "      <td>9.768995e-01</td>\n",
       "      <td>160.005324</td>\n",
       "    </tr>\n",
       "  </tbody>\n",
       "</table>\n",
       "<p>170500 rows × 6 columns</p>\n",
       "</div>"
      ],
      "text/plain": [
       "       Qf  Time     X     Y         Alpha  Temp(degC)\n",
       "0     520   0.0   0.5  2.00  2.671200e-07   20.000000\n",
       "1     520   0.0   1.0  2.00  2.671200e-07   20.000000\n",
       "2     520   0.0   1.5  2.00  2.671200e-07   20.000000\n",
       "3     520   0.0   2.0  2.00  2.671200e-07   20.000000\n",
       "4     520   0.0   2.5  2.00  2.671200e-07   20.000000\n",
       "...   ...   ...   ...   ...           ...         ...\n",
       "3095  600  15.0  50.0  1.92  9.769047e-01  160.016833\n",
       "3096  600  15.0  50.0  1.94  9.769034e-01  160.013898\n",
       "3097  600  15.0  50.0  1.96  9.769021e-01  160.011001\n",
       "3098  600  15.0  50.0  1.98  9.769008e-01  160.008143\n",
       "3099  600  15.0  50.0  2.00  9.768995e-01  160.005324\n",
       "\n",
       "[170500 rows x 6 columns]"
      ]
     },
     "execution_count": 2,
     "metadata": {},
     "output_type": "execute_result"
    }
   ],
   "source": [
    "import glob\n",
    "\n",
    "df = pd.concat(map(pd.read_csv, glob.glob('/Users/prathiklolla/Documents/Research/Research/data/*.csv')))\n",
    "df"
   ]
  },
  {
   "cell_type": "code",
   "execution_count": 3,
   "metadata": {},
   "outputs": [],
   "source": [
    "Q_np = df['Qf']\n",
    "t_np = df['Time']\n",
    "x_np = df['X']\n",
    "y_np = df['Y']\n",
    "alpha_np = df['Alpha']\n",
    "temp_np = df['Temp(degC)']"
   ]
  },
  {
   "cell_type": "code",
   "execution_count": 4,
   "metadata": {},
   "outputs": [
    {
     "data": {
      "text/plain": [
       "array([ 20.00000016,  20.00000029,  20.0000003 , ..., 160.0110012 ,\n",
       "       160.0081433 , 160.005324  ])"
      ]
     },
     "execution_count": 4,
     "metadata": {},
     "output_type": "execute_result"
    }
   ],
   "source": [
    "Q_np.to_numpy()\n",
    "t_np.to_numpy()\n",
    "x_np.to_numpy()\n",
    "y_np.to_numpy()\n",
    "alpha_np.to_numpy()\n",
    "temp_np.to_numpy()"
   ]
  },
  {
   "cell_type": "code",
   "execution_count": 5,
   "metadata": {},
   "outputs": [],
   "source": [
    "# Define the necessary inputs using Variable \n",
    "Q = sn.Variable('Q')\n",
    "t = sn.Variable('t')\n",
    "x = sn.Variable('x')\n",
    "y = sn.Variable('y')\n",
    "\n",
    "# Define Neural Network Approximations\n",
    "T = sn.Functional('T', [Q,t,x,y], 8*[20], 'tanh')\n",
    "a = sn.Functional('a', [Q,t,x,y], 8*[20], 'tanh')"
   ]
  },
  {
   "cell_type": "code",
   "execution_count": null,
   "metadata": {},
   "outputs": [],
   "source": [
    "# Constants\n",
    "H = 352.1\n",
    "A = 2e5\n",
    "E_a = 51100\n",
    "n = 1.927\n",
    "p = 980\n",
    "c_p = 1440\n",
    "k = 1.8\n",
    "R = 8.314\n",
    "T_0 = 25\n",
    "a_0 = 0\n",
    "h = 1.8\n",
    "\n",
    "# PDEs\n",
    "from sciann.utils.math import diff, sign, exp, pow\n",
    "\n",
    "L1 = (k/(p*c_p))*diff(T, x, order=2) + (k/(p*c_p))*diff(T, y, order=2) + (H/c_p)*diff(a, t)\n",
    "L2 = A*exp((-E_a/(R*T))*pow(1-a, n))"
   ]
  }
 ],
 "metadata": {
  "kernelspec": {
   "display_name": "Python 3",
   "language": "python",
   "name": "python3"
  },
  "language_info": {
   "codemirror_mode": {
    "name": "ipython",
    "version": 3
   },
   "file_extension": ".py",
   "mimetype": "text/x-python",
   "name": "python",
   "nbconvert_exporter": "python",
   "pygments_lexer": "ipython3",
   "version": "3.7.6"
  }
 },
 "nbformat": 4,
 "nbformat_minor": 4
}
