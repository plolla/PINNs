{
 "cells": [
  {
   "cell_type": "code",
   "execution_count": 2,
   "metadata": {
    "scrolled": true
   },
   "outputs": [
    {
     "name": "stdout",
     "output_type": "stream",
     "text": [
      "---------------------- SCIANN 0.6.0.4 ---------------------- \n",
      "For details, check out our review paper and the documentation at: \n",
      " +  \"https://arxiv.org/abs/2005.08803\", \n",
      " +  \"https://www.sciann.com\". \n",
      "\n"
     ]
    }
   ],
   "source": [
    "import pandas as pd\n",
    "import numpy as np\n",
    "import sciann as sn\n",
    "from sciann.utils.math import diff, tanh, sin"
   ]
  },
  {
   "cell_type": "code",
   "execution_count": 3,
   "metadata": {},
   "outputs": [],
   "source": [
    "# Variable defines the inputs\n",
    "t = sn.Variable(\"t\")\n",
    "x = sn.Variable(\"x\")\n",
    "\n",
    "# Functional creates the deep neural net\n",
    "# This will create a deep neural network with 8 layers with 20 neurons in each layer with a tanh activation\n",
    "\n",
    "u = sn.Functional(\"u\", [t, x], 8*[20], \"tanh\")"
   ]
  },
  {
   "cell_type": "code",
   "execution_count": 18,
   "metadata": {},
   "outputs": [],
   "source": [
    "\n",
    "\n",
    "# L1 is the PDE\n",
    "L1 = diff(u, t) + u*diff(u, x) - (0.01/np.pi)*diff(u, x, order=2)\n",
    "\n",
    "# Boundary Conditions\n",
    "# Tmin = t + tol\n",
    "tol = 0.001 \n",
    "L2 = (1 - tanh(t - tol)) * (u + sin(np.pi*x))\n",
    "L3 = (1 - tanh(x - (-1+tol))) * u\n",
    "L4 = (1 + tanh(x - (1-tol))) * u"
   ]
  },
  {
   "cell_type": "markdown",
   "metadata": {},
   "source": [
    "### Building the Model"
   ]
  },
  {
   "cell_type": "code",
   "execution_count": 19,
   "metadata": {},
   "outputs": [],
   "source": [
    "\n",
    "m = sn.SciModel([t, x], [L1, L2, L3, L4], \"mse\", \"Adam\")"
   ]
  },
  {
   "cell_type": "code",
   "execution_count": null,
   "metadata": {},
   "outputs": [],
   "source": []
  }
 ],
 "metadata": {
  "kernelspec": {
   "display_name": "Python [conda env:py3-TF2.0]",
   "language": "python",
   "name": "conda-env-py3-TF2.0-py"
  },
  "language_info": {
   "codemirror_mode": {
    "name": "ipython",
    "version": 3
   },
   "file_extension": ".py",
   "mimetype": "text/x-python",
   "name": "python",
   "nbconvert_exporter": "python",
   "pygments_lexer": "ipython3",
   "version": "3.7.7"
  }
 },
 "nbformat": 4,
 "nbformat_minor": 4
}
