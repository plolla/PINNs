{
 "cells": [
  {
   "cell_type": "markdown",
   "metadata": {},
   "source": [
    "# PINN #1"
   ]
  },
  {
   "cell_type": "markdown",
   "metadata": {},
   "source": [
    "## Import Relevant Packages"
   ]
  },
  {
   "cell_type": "code",
   "execution_count": 1,
   "metadata": {},
   "outputs": [
    {
     "name": "stdout",
     "output_type": "stream",
     "text": [
      "---------------------- SCIANN 0.6.1.1 ---------------------- \n",
      "For details, check out our review paper and the documentation at: \n",
      " +  \"https://arxiv.org/abs/2005.08803\", \n",
      " +  \"https://www.sciann.com\". \n",
      "\n",
      " Need support or would like to contribute, please join sciann`s slack group: \n",
      " +  \"https://join.slack.com/t/sciann/shared_invite/zt-ne1f5jlx-k_dY8RGo3ZreDXwz0f~CeA\" \n",
      " \n"
     ]
    }
   ],
   "source": [
    "import pandas as pd\n",
    "import sciann as sn\n",
    "import numpy as np\n",
    "from sklearn.preprocessing import MinMaxScaler"
   ]
  },
  {
   "cell_type": "markdown",
   "metadata": {},
   "source": [
    "## Load Data from Data Folder"
   ]
  },
  {
   "cell_type": "code",
   "execution_count": 2,
   "metadata": {},
   "outputs": [
    {
     "data": {
      "text/html": [
       "<div>\n",
       "<style scoped>\n",
       "    .dataframe tbody tr th:only-of-type {\n",
       "        vertical-align: middle;\n",
       "    }\n",
       "\n",
       "    .dataframe tbody tr th {\n",
       "        vertical-align: top;\n",
       "    }\n",
       "\n",
       "    .dataframe thead th {\n",
       "        text-align: right;\n",
       "    }\n",
       "</style>\n",
       "<table border=\"1\" class=\"dataframe\">\n",
       "  <thead>\n",
       "    <tr style=\"text-align: right;\">\n",
       "      <th></th>\n",
       "      <th>Qf</th>\n",
       "      <th>Time</th>\n",
       "      <th>X</th>\n",
       "      <th>Y</th>\n",
       "      <th>Alpha</th>\n",
       "      <th>Temp(degC)</th>\n",
       "    </tr>\n",
       "  </thead>\n",
       "  <tbody>\n",
       "    <tr>\n",
       "      <th>0</th>\n",
       "      <td>520</td>\n",
       "      <td>0.0</td>\n",
       "      <td>0.5</td>\n",
       "      <td>2.00</td>\n",
       "      <td>2.671200e-07</td>\n",
       "      <td>20.000000</td>\n",
       "    </tr>\n",
       "    <tr>\n",
       "      <th>1</th>\n",
       "      <td>520</td>\n",
       "      <td>0.0</td>\n",
       "      <td>1.0</td>\n",
       "      <td>2.00</td>\n",
       "      <td>2.671200e-07</td>\n",
       "      <td>20.000000</td>\n",
       "    </tr>\n",
       "    <tr>\n",
       "      <th>2</th>\n",
       "      <td>520</td>\n",
       "      <td>0.0</td>\n",
       "      <td>1.5</td>\n",
       "      <td>2.00</td>\n",
       "      <td>2.671200e-07</td>\n",
       "      <td>20.000000</td>\n",
       "    </tr>\n",
       "    <tr>\n",
       "      <th>3</th>\n",
       "      <td>520</td>\n",
       "      <td>0.0</td>\n",
       "      <td>2.0</td>\n",
       "      <td>2.00</td>\n",
       "      <td>2.671200e-07</td>\n",
       "      <td>20.000000</td>\n",
       "    </tr>\n",
       "    <tr>\n",
       "      <th>4</th>\n",
       "      <td>520</td>\n",
       "      <td>0.0</td>\n",
       "      <td>2.5</td>\n",
       "      <td>2.00</td>\n",
       "      <td>2.671200e-07</td>\n",
       "      <td>20.000000</td>\n",
       "    </tr>\n",
       "    <tr>\n",
       "      <th>...</th>\n",
       "      <td>...</td>\n",
       "      <td>...</td>\n",
       "      <td>...</td>\n",
       "      <td>...</td>\n",
       "      <td>...</td>\n",
       "      <td>...</td>\n",
       "    </tr>\n",
       "    <tr>\n",
       "      <th>3095</th>\n",
       "      <td>600</td>\n",
       "      <td>15.0</td>\n",
       "      <td>50.0</td>\n",
       "      <td>1.92</td>\n",
       "      <td>9.769047e-01</td>\n",
       "      <td>160.016833</td>\n",
       "    </tr>\n",
       "    <tr>\n",
       "      <th>3096</th>\n",
       "      <td>600</td>\n",
       "      <td>15.0</td>\n",
       "      <td>50.0</td>\n",
       "      <td>1.94</td>\n",
       "      <td>9.769034e-01</td>\n",
       "      <td>160.013898</td>\n",
       "    </tr>\n",
       "    <tr>\n",
       "      <th>3097</th>\n",
       "      <td>600</td>\n",
       "      <td>15.0</td>\n",
       "      <td>50.0</td>\n",
       "      <td>1.96</td>\n",
       "      <td>9.769021e-01</td>\n",
       "      <td>160.011001</td>\n",
       "    </tr>\n",
       "    <tr>\n",
       "      <th>3098</th>\n",
       "      <td>600</td>\n",
       "      <td>15.0</td>\n",
       "      <td>50.0</td>\n",
       "      <td>1.98</td>\n",
       "      <td>9.769008e-01</td>\n",
       "      <td>160.008143</td>\n",
       "    </tr>\n",
       "    <tr>\n",
       "      <th>3099</th>\n",
       "      <td>600</td>\n",
       "      <td>15.0</td>\n",
       "      <td>50.0</td>\n",
       "      <td>2.00</td>\n",
       "      <td>9.768995e-01</td>\n",
       "      <td>160.005324</td>\n",
       "    </tr>\n",
       "  </tbody>\n",
       "</table>\n",
       "<p>170500 rows × 6 columns</p>\n",
       "</div>"
      ],
      "text/plain": [
       "       Qf  Time     X     Y         Alpha  Temp(degC)\n",
       "0     520   0.0   0.5  2.00  2.671200e-07   20.000000\n",
       "1     520   0.0   1.0  2.00  2.671200e-07   20.000000\n",
       "2     520   0.0   1.5  2.00  2.671200e-07   20.000000\n",
       "3     520   0.0   2.0  2.00  2.671200e-07   20.000000\n",
       "4     520   0.0   2.5  2.00  2.671200e-07   20.000000\n",
       "...   ...   ...   ...   ...           ...         ...\n",
       "3095  600  15.0  50.0  1.92  9.769047e-01  160.016833\n",
       "3096  600  15.0  50.0  1.94  9.769034e-01  160.013898\n",
       "3097  600  15.0  50.0  1.96  9.769021e-01  160.011001\n",
       "3098  600  15.0  50.0  1.98  9.769008e-01  160.008143\n",
       "3099  600  15.0  50.0  2.00  9.768995e-01  160.005324\n",
       "\n",
       "[170500 rows x 6 columns]"
      ]
     },
     "execution_count": 2,
     "metadata": {},
     "output_type": "execute_result"
    }
   ],
   "source": [
    "import glob\n",
    "\n",
    "df = pd.concat(map(pd.read_csv, glob.glob('/Users/prathiklolla/Documents/Research/Research/data/*.csv')))\n",
    "df"
   ]
  },
  {
   "cell_type": "code",
   "execution_count": 3,
   "metadata": {},
   "outputs": [
    {
     "data": {
      "text/html": [
       "<div>\n",
       "<style scoped>\n",
       "    .dataframe tbody tr th:only-of-type {\n",
       "        vertical-align: middle;\n",
       "    }\n",
       "\n",
       "    .dataframe tbody tr th {\n",
       "        vertical-align: top;\n",
       "    }\n",
       "\n",
       "    .dataframe thead th {\n",
       "        text-align: right;\n",
       "    }\n",
       "</style>\n",
       "<table border=\"1\" class=\"dataframe\">\n",
       "  <thead>\n",
       "    <tr style=\"text-align: right;\">\n",
       "      <th></th>\n",
       "      <th>Qf</th>\n",
       "      <th>Time</th>\n",
       "      <th>X</th>\n",
       "      <th>Y</th>\n",
       "      <th>Alpha</th>\n",
       "      <th>Temp(degC)</th>\n",
       "    </tr>\n",
       "  </thead>\n",
       "  <tbody>\n",
       "    <tr>\n",
       "      <th>0</th>\n",
       "      <td>540</td>\n",
       "      <td>12.5</td>\n",
       "      <td>50.0</td>\n",
       "      <td>1.22</td>\n",
       "      <td>9.300722e-01</td>\n",
       "      <td>129.828677</td>\n",
       "    </tr>\n",
       "    <tr>\n",
       "      <th>1</th>\n",
       "      <td>520</td>\n",
       "      <td>14.5</td>\n",
       "      <td>50.0</td>\n",
       "      <td>1.82</td>\n",
       "      <td>9.566642e-01</td>\n",
       "      <td>138.329819</td>\n",
       "    </tr>\n",
       "    <tr>\n",
       "      <th>2</th>\n",
       "      <td>500</td>\n",
       "      <td>3.5</td>\n",
       "      <td>5.0</td>\n",
       "      <td>2.00</td>\n",
       "      <td>1.455975e-01</td>\n",
       "      <td>53.728505</td>\n",
       "    </tr>\n",
       "    <tr>\n",
       "      <th>3</th>\n",
       "      <td>660</td>\n",
       "      <td>1.5</td>\n",
       "      <td>0.0</td>\n",
       "      <td>0.40</td>\n",
       "      <td>4.173274e-02</td>\n",
       "      <td>40.134129</td>\n",
       "    </tr>\n",
       "    <tr>\n",
       "      <th>4</th>\n",
       "      <td>560</td>\n",
       "      <td>0.0</td>\n",
       "      <td>29.5</td>\n",
       "      <td>0.00</td>\n",
       "      <td>2.672704e-07</td>\n",
       "      <td>20.010215</td>\n",
       "    </tr>\n",
       "    <tr>\n",
       "      <th>...</th>\n",
       "      <td>...</td>\n",
       "      <td>...</td>\n",
       "      <td>...</td>\n",
       "      <td>...</td>\n",
       "      <td>...</td>\n",
       "      <td>...</td>\n",
       "    </tr>\n",
       "    <tr>\n",
       "      <th>170495</th>\n",
       "      <td>500</td>\n",
       "      <td>1.5</td>\n",
       "      <td>38.5</td>\n",
       "      <td>2.00</td>\n",
       "      <td>3.163239e-02</td>\n",
       "      <td>35.156264</td>\n",
       "    </tr>\n",
       "    <tr>\n",
       "      <th>170496</th>\n",
       "      <td>520</td>\n",
       "      <td>9.5</td>\n",
       "      <td>24.0</td>\n",
       "      <td>2.00</td>\n",
       "      <td>7.791530e-01</td>\n",
       "      <td>105.570326</td>\n",
       "    </tr>\n",
       "    <tr>\n",
       "      <th>170497</th>\n",
       "      <td>600</td>\n",
       "      <td>13.0</td>\n",
       "      <td>38.0</td>\n",
       "      <td>1.00</td>\n",
       "      <td>9.627208e-01</td>\n",
       "      <td>146.959384</td>\n",
       "    </tr>\n",
       "    <tr>\n",
       "      <th>170498</th>\n",
       "      <td>680</td>\n",
       "      <td>4.5</td>\n",
       "      <td>17.5</td>\n",
       "      <td>2.00</td>\n",
       "      <td>3.759352e-01</td>\n",
       "      <td>77.954660</td>\n",
       "    </tr>\n",
       "    <tr>\n",
       "      <th>170499</th>\n",
       "      <td>660</td>\n",
       "      <td>12.0</td>\n",
       "      <td>35.5</td>\n",
       "      <td>2.00</td>\n",
       "      <td>9.641970e-01</td>\n",
       "      <td>151.161686</td>\n",
       "    </tr>\n",
       "  </tbody>\n",
       "</table>\n",
       "<p>170500 rows × 6 columns</p>\n",
       "</div>"
      ],
      "text/plain": [
       "         Qf  Time     X     Y         Alpha  Temp(degC)\n",
       "0       540  12.5  50.0  1.22  9.300722e-01  129.828677\n",
       "1       520  14.5  50.0  1.82  9.566642e-01  138.329819\n",
       "2       500   3.5   5.0  2.00  1.455975e-01   53.728505\n",
       "3       660   1.5   0.0  0.40  4.173274e-02   40.134129\n",
       "4       560   0.0  29.5  0.00  2.672704e-07   20.010215\n",
       "...     ...   ...   ...   ...           ...         ...\n",
       "170495  500   1.5  38.5  2.00  3.163239e-02   35.156264\n",
       "170496  520   9.5  24.0  2.00  7.791530e-01  105.570326\n",
       "170497  600  13.0  38.0  1.00  9.627208e-01  146.959384\n",
       "170498  680   4.5  17.5  2.00  3.759352e-01   77.954660\n",
       "170499  660  12.0  35.5  2.00  9.641970e-01  151.161686\n",
       "\n",
       "[170500 rows x 6 columns]"
      ]
     },
     "execution_count": 3,
     "metadata": {},
     "output_type": "execute_result"
    }
   ],
   "source": [
    "# Shuffle the data so it's easy for the model to learn\n",
    "df = df.sample(frac=1).reset_index(drop=True)\n",
    "df"
   ]
  },
  {
   "cell_type": "code",
   "execution_count": 4,
   "metadata": {},
   "outputs": [
    {
     "data": {
      "text/html": [
       "<div>\n",
       "<style scoped>\n",
       "    .dataframe tbody tr th:only-of-type {\n",
       "        vertical-align: middle;\n",
       "    }\n",
       "\n",
       "    .dataframe tbody tr th {\n",
       "        vertical-align: top;\n",
       "    }\n",
       "\n",
       "    .dataframe thead th {\n",
       "        text-align: right;\n",
       "    }\n",
       "</style>\n",
       "<table border=\"1\" class=\"dataframe\">\n",
       "  <thead>\n",
       "    <tr style=\"text-align: right;\">\n",
       "      <th></th>\n",
       "      <th>Qf</th>\n",
       "      <th>Time</th>\n",
       "      <th>X</th>\n",
       "      <th>Y</th>\n",
       "      <th>Alpha</th>\n",
       "      <th>Temp(degC)</th>\n",
       "    </tr>\n",
       "  </thead>\n",
       "  <tbody>\n",
       "  </tbody>\n",
       "</table>\n",
       "</div>"
      ],
      "text/plain": [
       "Empty DataFrame\n",
       "Columns: [Qf, Time, X, Y, Alpha, Temp(degC)]\n",
       "Index: []"
      ]
     },
     "execution_count": 4,
     "metadata": {},
     "output_type": "execute_result"
    }
   ],
   "source": [
    "pd.set_option(\"display.max_rows\", None, \"display.max_columns\", None)\n",
    "df[df.isna().any(axis=1)]"
   ]
  },
  {
   "cell_type": "markdown",
   "metadata": {},
   "source": [
    "## Initialize MinMaxScaler"
   ]
  },
  {
   "cell_type": "code",
   "execution_count": 5,
   "metadata": {},
   "outputs": [],
   "source": [
    "scaler = MinMaxScaler(feature_range = (0,1))"
   ]
  },
  {
   "cell_type": "markdown",
   "metadata": {},
   "source": [
    " ## Convert columns into NumPy Arrays and Scale Them"
   ]
  },
  {
   "cell_type": "code",
   "execution_count": 6,
   "metadata": {},
   "outputs": [],
   "source": [
    "Q_np = df['Qf']\n",
    "t_np = df['Time']\n",
    "x_np = df['X']\n",
    "y_np = df['Y']\n",
    "alpha_np = df['Alpha']\n",
    "temp_np = df['Temp(degC)']"
   ]
  },
  {
   "cell_type": "code",
   "execution_count": 7,
   "metadata": {
    "scrolled": true
   },
   "outputs": [],
   "source": [
    "Q_np = (Q_np.to_numpy().reshape(-1,1))\n",
    "t_np = (t_np.to_numpy().reshape(-1,1))\n",
    "x_np = (x_np.to_numpy().reshape(-1,1))\n",
    "y_np = (y_np.to_numpy().reshape(-1,1))\n",
    "alpha_np = (alpha_np.to_numpy().reshape(-1,1))\n",
    "temp_np = (temp_np.to_numpy().reshape(-1,1))"
   ]
  },
  {
   "cell_type": "markdown",
   "metadata": {},
   "source": [
    "## Define Inputs and Targets for PINN"
   ]
  },
  {
   "cell_type": "code",
   "execution_count": 8,
   "metadata": {},
   "outputs": [],
   "source": [
    "# Define the necessary inputs and parameter using Variable and Parameter\n",
    "t = sn.Variable('t')\n",
    "x = sn.Variable('x')\n",
    "y = sn.Variable('y')\n",
    "Q = sn.Variable('Q')\n",
    "\n",
    "# Define Neural Network Approximations\n",
    "T = sn.Functional('T', [t,x,y,Q], 5*[20], 'tanh')\n",
    "a = sn.Functional('a', [t,x,y,Q], 5*[20], 'tanh')"
   ]
  },
  {
   "cell_type": "markdown",
   "metadata": {},
   "source": [
    "## Define Constants and PDEs"
   ]
  },
  {
   "cell_type": "code",
   "execution_count": 9,
   "metadata": {},
   "outputs": [],
   "source": [
    "# Constants\n",
    "\n",
    "H = 352.1 #1\n",
    "A = 2e5 #2\n",
    "E_a = 51100 #3 \n",
    "n = 1.927 #4\n",
    "p = 980 #5\n",
    "c_p = 1440 #6\n",
    "k = 1.8 #7\n",
    "R = 8.314 #8\n",
    "T_o = 20 #9\n",
    "a_o = 0 #10\n",
    "h = 1.8 #11\n",
    "\n",
    "# PDEs\n",
    "from sciann.utils.math import diff, sign, exp, pow\n",
    "\n",
    "L1 = (k/(p*c_p))*diff(T, x, order=2) + (k/(p*c_p))*diff(T, y, order=2) + (H/c_p)*diff(a, t) - diff(T, t)\n",
    "L2 = A*exp((-E_a/(R*T))*pow(1-a, n))*(1 + 0.36*a) - diff(a, t)"
   ]
  },
  {
   "cell_type": "markdown",
   "metadata": {},
   "source": [
    "## Define Initial & Boundary Conditions"
   ]
  },
  {
   "cell_type": "code",
   "execution_count": 10,
   "metadata": {},
   "outputs": [],
   "source": [
    "# t: [0,15]\n",
    "# x: [0,50]\n",
    "# y: [0,2]\n",
    "# Q: [500,700]\n",
    "\n",
    "tmin = 0\n",
    "Xmin = 0\n",
    "Xmax = 50\n",
    "Ymin = 0\n",
    "Ymax = 2\n",
    "\n",
    "# Boundary Conditions\n",
    "L3 = (k*diff(T, x))*(1-sign(x - Xmin)) + (h*T)*(1-sign(x - Xmin)) - (h*T_o)*(1-sign(x - Xmin))\n",
    "\n",
    "L4 = (k*diff(T, x))*(1+sign(x - Xmax)) + (h*T)*(1+sign(x - Xmax)) - (h*T_o)*(1+sign(x - Xmax))\n",
    "\n",
    "L5 = (k*diff(T, y))*(1-sign(y - Ymin)) + (h*T)*(1-sign(y - Ymin)) - (h*T_o)*(1-sign(y - Ymin))\n",
    "\n",
    "L6 = (k*diff(T,y) - Q)*(1+sign(y - Ymax))\n",
    "\n",
    "# Initial Conditions\n",
    "L7 = (1-sign(t - tmin))*(T-20)\n",
    "\n",
    "L8 = (1-sign(t - tmin))*(a)\n",
    "\n",
    "L9 = sn.Data(T)\n",
    "\n",
    "L10 = sn.Data(a)"
   ]
  },
  {
   "cell_type": "markdown",
   "metadata": {},
   "source": [
    "## Build the Model"
   ]
  },
  {
   "cell_type": "code",
   "execution_count": 11,
   "metadata": {},
   "outputs": [],
   "source": [
    "m = sn.SciModel([t,x,y,Q], [L1,L2,L3,L4,L5,L6,L7,L8,L9,L10])"
   ]
  },
  {
   "cell_type": "code",
   "execution_count": 12,
   "metadata": {},
   "outputs": [
    {
     "name": "stdout",
     "output_type": "stream",
     "text": [
      "\n",
      "Total samples: 170500 \n",
      "Batch size: 128 \n",
      "Total batches: 1333 \n",
      "\n",
      "\n",
      "Epoch 01007: ReduceLROnPlateau reducing learning rate to 0.0005000000237487257.\n",
      "\n",
      "Epoch 02007: ReduceLROnPlateau reducing learning rate to 0.0002500000118743628.\n",
      "\n",
      "Epoch 03007: ReduceLROnPlateau reducing learning rate to 0.0001250000059371814.\n",
      "\n",
      "Epoch 04007: ReduceLROnPlateau reducing learning rate to 6.25000029685907e-05.\n",
      "\n",
      "Epoch 05007: ReduceLROnPlateau reducing learning rate to 3.125000148429535e-05.\n",
      "\n",
      "Epoch 06007: ReduceLROnPlateau reducing learning rate to 1.5625000742147677e-05.\n",
      "\n",
      "Epoch 07007: ReduceLROnPlateau reducing learning rate to 7.812500371073838e-06.\n",
      "\n",
      "Epoch 08007: ReduceLROnPlateau reducing learning rate to 3.906250185536919e-06.\n",
      "\n",
      "Epoch 09007: ReduceLROnPlateau reducing learning rate to 1.9531250927684596e-06.\n"
     ]
    }
   ],
   "source": [
    "h = m.train(\n",
    "    [t_np, x_np, y_np, Q_np], \n",
    "    ['zeros','zeros','zeros','zeros','zeros','zeros','zeros','zeros', temp_np, alpha_np], \n",
    "    epochs=10000,\n",
    "    batch_size=128,\n",
    "    verbose = 0,\n",
    "    shuffle=False)"
   ]
  },
  {
   "cell_type": "markdown",
   "metadata": {},
   "source": [
    "## Getting Test Data"
   ]
  },
  {
   "cell_type": "code",
   "execution_count": 30,
   "metadata": {},
   "outputs": [
    {
     "data": {
      "text/html": [
       "<div>\n",
       "<style scoped>\n",
       "    .dataframe tbody tr th:only-of-type {\n",
       "        vertical-align: middle;\n",
       "    }\n",
       "\n",
       "    .dataframe tbody tr th {\n",
       "        vertical-align: top;\n",
       "    }\n",
       "\n",
       "    .dataframe thead th {\n",
       "        text-align: right;\n",
       "    }\n",
       "</style>\n",
       "<table border=\"1\" class=\"dataframe\">\n",
       "  <thead>\n",
       "    <tr style=\"text-align: right;\">\n",
       "      <th></th>\n",
       "      <th>Qf</th>\n",
       "      <th>Time</th>\n",
       "      <th>X</th>\n",
       "      <th>Y</th>\n",
       "      <th>Alpha</th>\n",
       "      <th>Temp(degC)</th>\n",
       "    </tr>\n",
       "  </thead>\n",
       "  <tbody>\n",
       "    <tr>\n",
       "      <th>0</th>\n",
       "      <td>440</td>\n",
       "      <td>0.0</td>\n",
       "      <td>0.5</td>\n",
       "      <td>2.0</td>\n",
       "      <td>2.671200e-07</td>\n",
       "      <td>20.0</td>\n",
       "    </tr>\n",
       "    <tr>\n",
       "      <th>1</th>\n",
       "      <td>440</td>\n",
       "      <td>0.0</td>\n",
       "      <td>1.0</td>\n",
       "      <td>2.0</td>\n",
       "      <td>2.671200e-07</td>\n",
       "      <td>20.0</td>\n",
       "    </tr>\n",
       "    <tr>\n",
       "      <th>2</th>\n",
       "      <td>440</td>\n",
       "      <td>0.0</td>\n",
       "      <td>1.5</td>\n",
       "      <td>2.0</td>\n",
       "      <td>2.671200e-07</td>\n",
       "      <td>20.0</td>\n",
       "    </tr>\n",
       "    <tr>\n",
       "      <th>3</th>\n",
       "      <td>440</td>\n",
       "      <td>0.0</td>\n",
       "      <td>2.0</td>\n",
       "      <td>2.0</td>\n",
       "      <td>2.671200e-07</td>\n",
       "      <td>20.0</td>\n",
       "    </tr>\n",
       "    <tr>\n",
       "      <th>4</th>\n",
       "      <td>440</td>\n",
       "      <td>0.0</td>\n",
       "      <td>2.5</td>\n",
       "      <td>2.0</td>\n",
       "      <td>2.671200e-07</td>\n",
       "      <td>20.0</td>\n",
       "    </tr>\n",
       "  </tbody>\n",
       "</table>\n",
       "</div>"
      ],
      "text/plain": [
       "    Qf  Time    X    Y         Alpha  Temp(degC)\n",
       "0  440   0.0  0.5  2.0  2.671200e-07        20.0\n",
       "1  440   0.0  1.0  2.0  2.671200e-07        20.0\n",
       "2  440   0.0  1.5  2.0  2.671200e-07        20.0\n",
       "3  440   0.0  2.0  2.0  2.671200e-07        20.0\n",
       "4  440   0.0  2.5  2.0  2.671200e-07        20.0"
      ]
     },
     "execution_count": 30,
     "metadata": {},
     "output_type": "execute_result"
    }
   ],
   "source": [
    "test_df = pd.concat(map(pd.read_csv, glob.glob('/Users/prathiklolla/Documents/Research/Research/test_data/*.csv')))\n",
    "test_df.head()"
   ]
  },
  {
   "cell_type": "code",
   "execution_count": 34,
   "metadata": {},
   "outputs": [
    {
     "data": {
      "text/html": [
       "<div>\n",
       "<style scoped>\n",
       "    .dataframe tbody tr th:only-of-type {\n",
       "        vertical-align: middle;\n",
       "    }\n",
       "\n",
       "    .dataframe tbody tr th {\n",
       "        vertical-align: top;\n",
       "    }\n",
       "\n",
       "    .dataframe thead th {\n",
       "        text-align: right;\n",
       "    }\n",
       "</style>\n",
       "<table border=\"1\" class=\"dataframe\">\n",
       "  <thead>\n",
       "    <tr style=\"text-align: right;\">\n",
       "      <th></th>\n",
       "      <th>Qf</th>\n",
       "      <th>Time</th>\n",
       "      <th>X</th>\n",
       "      <th>Y</th>\n",
       "      <th>Alpha</th>\n",
       "      <th>Temp(degC)</th>\n",
       "    </tr>\n",
       "  </thead>\n",
       "  <tbody>\n",
       "    <tr>\n",
       "      <th>0</th>\n",
       "      <td>460</td>\n",
       "      <td>11.5</td>\n",
       "      <td>50.0</td>\n",
       "      <td>1.58</td>\n",
       "      <td>0.830216</td>\n",
       "      <td>107.533530</td>\n",
       "    </tr>\n",
       "    <tr>\n",
       "      <th>1</th>\n",
       "      <td>400</td>\n",
       "      <td>3.5</td>\n",
       "      <td>0.0</td>\n",
       "      <td>1.86</td>\n",
       "      <td>0.109182</td>\n",
       "      <td>46.883992</td>\n",
       "    </tr>\n",
       "    <tr>\n",
       "      <th>2</th>\n",
       "      <td>460</td>\n",
       "      <td>3.0</td>\n",
       "      <td>7.0</td>\n",
       "      <td>2.00</td>\n",
       "      <td>0.100896</td>\n",
       "      <td>46.869237</td>\n",
       "    </tr>\n",
       "    <tr>\n",
       "      <th>3</th>\n",
       "      <td>420</td>\n",
       "      <td>1.5</td>\n",
       "      <td>8.5</td>\n",
       "      <td>2.00</td>\n",
       "      <td>0.027619</td>\n",
       "      <td>32.718288</td>\n",
       "    </tr>\n",
       "    <tr>\n",
       "      <th>4</th>\n",
       "      <td>400</td>\n",
       "      <td>5.5</td>\n",
       "      <td>0.0</td>\n",
       "      <td>0.10</td>\n",
       "      <td>0.256219</td>\n",
       "      <td>60.686361</td>\n",
       "    </tr>\n",
       "  </tbody>\n",
       "</table>\n",
       "</div>"
      ],
      "text/plain": [
       "    Qf  Time     X     Y     Alpha  Temp(degC)\n",
       "0  460  11.5  50.0  1.58  0.830216  107.533530\n",
       "1  400   3.5   0.0  1.86  0.109182   46.883992\n",
       "2  460   3.0   7.0  2.00  0.100896   46.869237\n",
       "3  420   1.5   8.5  2.00  0.027619   32.718288\n",
       "4  400   5.5   0.0  0.10  0.256219   60.686361"
      ]
     },
     "execution_count": 34,
     "metadata": {},
     "output_type": "execute_result"
    }
   ],
   "source": [
    "test_df = test_df.sample(frac=1).reset_index(drop=True)\n",
    "test_df.head()"
   ]
  },
  {
   "cell_type": "code",
   "execution_count": 35,
   "metadata": {},
   "outputs": [
    {
     "data": {
      "text/html": [
       "<div>\n",
       "<style scoped>\n",
       "    .dataframe tbody tr th:only-of-type {\n",
       "        vertical-align: middle;\n",
       "    }\n",
       "\n",
       "    .dataframe tbody tr th {\n",
       "        vertical-align: top;\n",
       "    }\n",
       "\n",
       "    .dataframe thead th {\n",
       "        text-align: right;\n",
       "    }\n",
       "</style>\n",
       "<table border=\"1\" class=\"dataframe\">\n",
       "  <thead>\n",
       "    <tr style=\"text-align: right;\">\n",
       "      <th></th>\n",
       "      <th>Qf</th>\n",
       "      <th>Time</th>\n",
       "      <th>X</th>\n",
       "      <th>Y</th>\n",
       "      <th>Alpha</th>\n",
       "      <th>Temp(degC)</th>\n",
       "    </tr>\n",
       "  </thead>\n",
       "  <tbody>\n",
       "  </tbody>\n",
       "</table>\n",
       "</div>"
      ],
      "text/plain": [
       "Empty DataFrame\n",
       "Columns: [Qf, Time, X, Y, Alpha, Temp(degC)]\n",
       "Index: []"
      ]
     },
     "execution_count": 35,
     "metadata": {},
     "output_type": "execute_result"
    }
   ],
   "source": [
    "test_df[test_df.isna().any(axis=1)]"
   ]
  },
  {
   "cell_type": "markdown",
   "metadata": {},
   "source": [
    "## Getting Predictions"
   ]
  },
  {
   "cell_type": "code",
   "execution_count": 36,
   "metadata": {},
   "outputs": [],
   "source": [
    "Q_test_np = test_df['Qf']\n",
    "t_test_np = test_df['Time']\n",
    "x_test_np = test_df['X']\n",
    "y_test_np = test_df['Y']\n",
    "alpha_test_np = test_df['Alpha']\n",
    "temp_test_np = test_df['Temp(degC)']\n",
    "\n",
    "Q_test_np = (Q_test_np.to_numpy().reshape(-1,1))\n",
    "t_test_np = (t_test_np.to_numpy().reshape(-1,1))\n",
    "x_test_np = (x_test_np.to_numpy().reshape(-1,1))\n",
    "y_test_np = (y_test_np.to_numpy().reshape(-1,1))\n",
    "alpha_test_np = (alpha_test_np.to_numpy().reshape(-1,1))\n",
    "temp_test_np = (temp_test_np.to_numpy().reshape(-1,1))"
   ]
  },
  {
   "cell_type": "code",
   "execution_count": 40,
   "metadata": {},
   "outputs": [],
   "source": [
    "T_pred = T.eval([t_test_np, x_test_np, y_test_np, Q_test_np])\n",
    "a_pred = a.eval([t_test_np, x_test_np, y_test_np, Q_test_np])"
   ]
  },
  {
   "cell_type": "markdown",
   "metadata": {},
   "source": [
    "## Results"
   ]
  },
  {
   "cell_type": "code",
   "execution_count": 44,
   "metadata": {},
   "outputs": [
    {
     "name": "stdout",
     "output_type": "stream",
     "text": [
      "TEMPERATURE: \n",
      "Test:   41.37\n",
      " \n",
      "ALPHA: \n",
      "Test:   0.341\n"
     ]
    }
   ],
   "source": [
    "from sklearn.metrics import mean_squared_error as mse\n",
    "import math\n",
    "print('TEMPERATURE: ')\n",
    "print('Test:  ', round(math.sqrt(mse(temp_test_np, T_pred)), 3))\n",
    "print(' ')\n",
    "print('ALPHA: ')\n",
    "print('Test:  ', round(math.sqrt(mse(alpha_test_np, a_pred)), 3))"
   ]
  },
  {
   "cell_type": "code",
   "execution_count": null,
   "metadata": {},
   "outputs": [],
   "source": []
  }
 ],
 "metadata": {
  "kernelspec": {
   "display_name": "Python 3",
   "language": "python",
   "name": "python3"
  },
  "language_info": {
   "codemirror_mode": {
    "name": "ipython",
    "version": 3
   },
   "file_extension": ".py",
   "mimetype": "text/x-python",
   "name": "python",
   "nbconvert_exporter": "python",
   "pygments_lexer": "ipython3",
   "version": "3.7.6"
  }
 },
 "nbformat": 4,
 "nbformat_minor": 4
}
